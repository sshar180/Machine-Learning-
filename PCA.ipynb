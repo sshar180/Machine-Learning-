{
  "cells": [
    {
      "cell_type": "markdown",
      "metadata": {
        "id": "view-in-github",
        "colab_type": "text"
      },
      "source": [
        "<a href=\"https://colab.research.google.com/github/sshar180/Machine-Learning-/blob/main/PCA.ipynb\" target=\"_parent\"><img src=\"https://colab.research.google.com/assets/colab-badge.svg\" alt=\"Open In Colab\"/></a>"
      ]
    },
    {
      "cell_type": "markdown",
      "metadata": {
        "id": "StEpjy4JuSYA"
      },
      "source": [
        "# Overview \n",
        "In this assignment, We will implement PCA, apply it to the [**MNIST**](https://scikit-learn.org/stable/modules/generated/sklearn.datasets.load_digits.html) dataset, and observe how the reconstruction changes as we change the number of principal components used.\n",
        "\n",
        "For this assignment we will use the functionality of [Numpy](http://www.numpy.org/), and [Matplotlib](https://matplotlib.org/).\n",
        "\n",
        "*   Before you start, make sure you have installed all those packages in your local Jupyter instance.\n",
        "*   If you are asked to implement a particular functionality, you should **not** use an existing implementation from the libraries above (or some other library that you may find). When in doubt, **please just ASK**.\n",
        "*   It's okay to use functions in `numpy.linalg` to calculate matrix decomposition (e.g., `la.eig()`, `la.svd()`), but using built-in functions like `sklearn.decomposition.PCA()` will **not** get you any points.\n",
        "\n",
        "\n",
        "Please read **all** cells carefully and answer **all** parts (both text and missing code). You will need to complete all the code marked `TODO` and answer descriptive/derivation questions."
      ]
    },
    {
      "cell_type": "code",
      "execution_count": 1,
      "metadata": {
        "id": "NM7-Cx4H-jTt"
      },
      "outputs": [],
      "source": [
        "%matplotlib inline\n",
        "import numpy as np\n",
        "import matplotlib.pyplot as plt\n",
        "from sklearn.datasets import load_digits\n",
        "# DO NOT REMOVE THE CODE ABOVE"
      ]
    },
    {
      "cell_type": "markdown",
      "metadata": {
        "id": "WHgsgFGF-kNA"
      },
      "source": [
        "## Question 1 [10 points]\n",
        "\n",
        "**Preliminaries**\n",
        "\n",
        "The [**MNIST**](https://scikit-learn.org/stable/modules/generated/sklearn.datasets.load_digits.html) database (Modified National Institute of Standards and Technology database) is a large database of handwritten digits that is commonly used for training various image processing systems.\n",
        "\n",
        "First, Let's import the images and vectorize each image in the dataset."
      ]
    },
    {
      "cell_type": "code",
      "execution_count": 2,
      "metadata": {
        "id": "DnLvNYtwuSYC"
      },
      "outputs": [],
      "source": [
        "mnist = load_digits()\n",
        "imgs = mnist.data"
      ]
    },
    {
      "cell_type": "markdown",
      "metadata": {
        "id": "q_F8GgYQuSYC"
      },
      "source": [
        "Compute the mean of the images and subtract out the mean."
      ]
    },
    {
      "cell_type": "code",
      "execution_count": 3,
      "metadata": {
        "id": "G_aPdQuouSYC"
      },
      "outputs": [],
      "source": [
        "mean = np.mean(imgs, axis=0)\n",
        "imgs -= mean"
      ]
    },
    {
      "cell_type": "markdown",
      "metadata": {
        "id": "cbDUYbMnuSYD"
      },
      "source": [
        "Let us call each zero mean vectorized image to be $X$. For $N$ images, you have $X_1,X_2,\\dots,X_N$. Compute $[X^\\top X]= R$."
      ]
    },
    {
      "cell_type": "markdown",
      "metadata": {
        "id": "8UULkMygXPpd"
      },
      "source": [
        "**(a) [2 points]** Perform a principal components analysis of $R = V\\Lambda V^\\top$."
      ]
    },
    {
      "cell_type": "code",
      "execution_count": 4,
      "metadata": {
        "id": "TxXqO-naI2iG",
        "colab": {
          "base_uri": "https://localhost:8080/",
          "height": 199
        },
        "outputId": "fe525470-7151-4b82-f4cf-5c388f21f81a"
      },
      "outputs": [
        {
          "output_type": "display_data",
          "data": {
            "text/plain": [
              "<Figure size 432x288 with 2 Axes>"
            ],
            "image/png": "[encoded data removed]"
          },
          "metadata": {
            "needs_background": "light"
          }
        }
      ],
      "source": [
        "#TODO\n",
        "# Computing the covariance matrix\n",
        "covariance_val = np.cov(imgs, rowvar=False)\n",
        "\n",
        "# Compute the eigenvalues and eigenvectors from the covariance matrix\n",
        "eigenvalues, eigenvectors = np.linalg.eig(covariance_val)\n",
        "\n",
        "# Sort the eigenvalues and eigenvectors in decreasing order\n",
        "idx = eigenvalues.argsort()[::-1]\n",
        "\n",
        "eigenvalues = eigenvalues[idx]\n",
        "\n",
        "eigenvectors = eigenvectors[:, idx]\n",
        "\n",
        "# Projecting the data onto the eigenvectors\n",
        "PC = imgs @ eigenvectors\n",
        "\n",
        "# Reconstructing the imagees from all eigencomponents (R=VΛV⊤)\n",
        "reconstructed_image = mean + np.dot(PC, eigenvectors.T)\n",
        "\n",
        "# Plot the original image and the reconstructed image\n",
        "plt.subplot(1, 2, 1)\n",
        "plt.imshow(imgs[0].reshape(8, 8), cmap='gray_r', interpolation='nearest')\n",
        "plt.title(\"Original Image\")\n",
        "plt.axis('off')\n",
        "\n",
        "plt.subplot(1, 2, 2)\n",
        "plt.imshow(reconstructed_image[0].reshape(8, 8), cmap='gray_r', interpolation='nearest')\n",
        "plt.title(\"Reconstructed Image\")\n",
        "plt.axis('off')\n",
        "\n",
        "plt.show()"
      ]
    },
    {
      "cell_type": "markdown",
      "metadata": {
        "id": "ywadWSHsYEZd"
      },
      "source": [
        "**(b) [2 points]** Analyze the eigenvalues in $\\Lambda$ and decide which eigenvalues to retain and which can be set to zero. \n",
        "\n",
        "* You may want to plot the eigenvalues, the fraction of variance explained, AIC, or BIC, and set a threshold."
      ]
    },
    {
      "cell_type": "code",
      "execution_count": 5,
      "metadata": {
        "id": "p2-zIA5vYOHA",
        "colab": {
          "base_uri": "https://localhost:8080/",
          "height": 295
        },
        "outputId": "0d793ed6-96cd-421d-af00-bcd2ca7f1a4b"
      },
      "outputs": [
        {
          "output_type": "display_data",
          "data": {
            "text/plain": [
              "<Figure size 432x288 with 1 Axes>"
            ],
            "image/png": "[encoded data removed]"
          },
          "metadata": {
            "needs_background": "light"
          }
        }
      ],
      "source": [
        "# TODO\n",
        "plt.plot(eigenvalues)\n",
        "plt.title('Scree Plot')\n",
        "plt.xlabel('Principal Component')\n",
        "plt.ylabel('Eigenvalue')\n",
        "plt.show()"
      ]
    },
    {
      "cell_type": "code",
      "source": [
        "variance_frac = eigenvalues / np.sum(eigenvalues)\n",
        "\n",
        "no_components = np.where(np.cumsum(variance_frac) > .95) [0][0] + 1\n",
        "print(no_components)\n",
        "cumulative_variance = np.cumsum(variance_frac)\n",
        "plt.plot(cumulative_variance)\n",
        "plt.title('Cumulative Variance Explained')\n",
        "plt.xlabel('Number of Principal Components')\n",
        "plt.ylabel('Fraction of Variance Explained')\n",
        "plt.show()"
      ],
      "metadata": {
        "colab": {
          "base_uri": "https://localhost:8080/",
          "height": 312
        },
        "id": "xUlVA66-0J_t",
        "outputId": "daf1c140-4a61-4a67-9be0-529a67c06bea"
      },
      "execution_count": 6,
      "outputs": [
        {
          "output_type": "stream",
          "name": "stdout",
          "text": [
            "29\n"
          ]
        },
        {
          "output_type": "display_data",
          "data": {
            "text/plain": [
              "<Figure size 432x288 with 1 Axes>"
            ],
            "image/png": "[encoded data removed]"
          },
          "metadata": {
            "needs_background": "light"
          }
        }
      ]
    },
    {
      "cell_type": "markdown",
      "metadata": {
        "id": "l9UHZEggYKd0"
      },
      "source": [
        "**(c) [2 points]**  Reconstruct an approximation of each X after removing some of the small eigenvalues. (Display only a couple of the reconstructed **images**, and you will need to add the mean back.)"
      ]
    },
    {
      "cell_type": "code",
      "execution_count": 7,
      "metadata": {
        "id": "265qk4h2YUrc",
        "colab": {
          "base_uri": "https://localhost:8080/",
          "height": 381
        },
        "outputId": "dbb969df-8b76-496c-e6ce-41fd4e916fab"
      },
      "outputs": [
        {
          "output_type": "display_data",
          "data": {
            "text/plain": [
              "<Figure size 432x288 with 2 Axes>"
            ],
            "image/png": "[encoded data removed]"
          },
          "metadata": {
            "needs_background": "light"
          }
        },
        {
          "output_type": "display_data",
          "data": {
            "text/plain": [
              "<Figure size 432x288 with 2 Axes>"
            ],
            "image/png": "[encoded data removed]"
          },
          "metadata": {
            "needs_background": "light"
          }
        }
      ],
      "source": [
        "# TODO\n",
        "\n",
        "# Calculating the proportion of variance explained by each eigenvalue\n",
        "explained_variance = eigenvalues / np.sum(eigenvalues)\n",
        "\n",
        "# Deciding which eigenvalues to keep based on the output proportion of variance explained\n",
        "number_comp = np.where(np.cumsum(explained_variance) > 0.95)[0][0] + 1\n",
        "\n",
        "# Projecting the image data onto the  number_comp eigenvectors\n",
        "PC = imgs @ eigenvectors[:, :number_comp]\n",
        "\n",
        "# Reconstruct the image using the first number_comp eigencomponents\n",
        "recon_image = mean + np.dot(PC, eigenvectors[:, :number_comp].T)\n",
        "\n",
        "# Plot the original image and the re-constructed image\n",
        "plt.subplot(1, 2, 1)\n",
        "plt.imshow(imgs[0].reshape(8, 8), cmap='gray_r', interpolation='nearest')\n",
        "plt.title(\"Original Image\")\n",
        "plt.axis('off')\n",
        "\n",
        "plt.subplot(1, 2, 2)\n",
        "plt.imshow(recon_image[0].reshape(8, 8), cmap='gray_r', interpolation='nearest')\n",
        "plt.title(\"Reconstructed Image\")\n",
        "plt.axis('off')\n",
        "\n",
        "plt.show()\n",
        "\n",
        "# Plot the original image and the re-constructed image\n",
        "plt.subplot(1, 2, 1)\n",
        "plt.imshow(imgs[1].reshape(8, 8), cmap='gray_r', interpolation='nearest')\n",
        "plt.title(\"Original Image\")\n",
        "plt.axis('off')\n",
        "\n",
        "plt.subplot(1, 2, 2)\n",
        "plt.imshow(recon_image[1].reshape(8, 8), cmap='gray_r', interpolation='nearest')\n",
        "plt.title(\"Reconstructed Image\")\n",
        "plt.axis('off')\n",
        "\n",
        "plt.show()"
      ]
    },
    {
      "cell_type": "markdown",
      "metadata": {
        "id": "_zeK-Qoc0TXu"
      },
      "source": [
        "**(d) [2 points]**  Compute the error between the reconstructed X and original image. (The mean of the original data should **not** be included in the error.)"
      ]
    },
    {
      "cell_type": "code",
      "execution_count": 8,
      "metadata": {
        "collapsed": true,
        "id": "O5Hn63Id0TXu",
        "colab": {
          "base_uri": "https://localhost:8080/"
        },
        "outputId": "5fd10ea3-d00e-4418-f241-268e0a49b319"
      },
      "outputs": [
        {
          "output_type": "stream",
          "name": "stdout",
          "text": [
            "Mean Squared Error: 42.13230038064608 Mean Squared Error using Sklearn is 42.13230038064608\n"
          ]
        }
      ],
      "source": [
        "# TODO\n",
        "# Compute the mean squared error between the reconstructed image and the original image\n",
        "mse = np.mean((recon_image - imgs) ** 2)\n",
        "from sklearn.metrics import mean_squared_error\n",
        "mse2 = mean_squared_error(recon_image, imgs)\n",
        "\n",
        "print(\"Mean Squared Error:\", mse, \"Mean Squared Error using Sklearn is\",mse2)"
      ]
    },
    {
      "cell_type": "markdown",
      "metadata": {
        "id": "A8BLgPQQ0TXv"
      },
      "source": [
        "**(e) [2 points]**  Analyze by choosing different numbers of eigenvalues to be zeroed out. Provide a short summary of your conclusions based on this analysis."
      ]
    },
    {
      "cell_type": "code",
      "execution_count": 9,
      "metadata": {
        "collapsed": true,
        "id": "wvkiFOUP0TXv",
        "colab": {
          "base_uri": "https://localhost:8080/"
        },
        "outputId": "76f359ac-1da7-43b3-aaec-12e2be268b8c"
      },
      "outputs": [
        {
          "output_type": "stream",
          "name": "stdout",
          "text": [
            "Number of Eigenvalues Zeroed Out: 2\n",
            "Mean Squared Error: 54.70470297844108\n",
            "\n",
            "Number of Eigenvalues Zeroed Out: 7\n",
            "Mean Squared Error: 54.70470297844108\n",
            "\n",
            "Number of Eigenvalues Zeroed Out: 14\n",
            "Mean Squared Error: 54.70470297844108\n",
            "\n",
            "Number of Eigenvalues Zeroed Out: 20\n",
            "Mean Squared Error: 54.70470297844108\n",
            "\n",
            "Number of Eigenvalues Zeroed Out: 24\n",
            "Mean Squared Error: 54.70470297844108\n",
            "\n",
            "Number of Eigenvalues Zeroed Out: 50\n",
            "Mean Squared Error: 54.70470297844108\n",
            "\n"
          ]
        }
      ],
      "source": [
        "# TODO\n",
        "# Loop over different numbers of eigenvalues to be zeroed out\n",
        "num_eigenvalues_to_zero = [2,7,14,20,24,50]\n",
        "for num_zero in num_eigenvalues_to_zero:\n",
        "    # Zero out the lowest num_zero eigenvalues and corresponding eigenvectors\n",
        "    eigenvalues[num_zero:] = 0\n",
        "    eigenvectors[:, num_zero:] = 0\n",
        "\n",
        "    # Project the data onto the first number_comp eigenvectors\n",
        "    number_comp = len(eigenvalues)\n",
        "    PC = imgs @ eigenvectors[:, :number_comp]\n",
        "\n",
        "    # Reconstruct the image using the first number_comp eigencomponents\n",
        "    recon_image = mean + np.dot(PC, eigenvectors[:, :number_comp].T)\n",
        "\n",
        "    # Compute the mean squared error between the reconstructed image and the original image\n",
        "    mse = np.mean((recon_image - imgs) ** 2)\n",
        "\n",
        "    print(\"Number of Eigenvalues Zeroed Out:\", num_zero)\n",
        "    print(\"Mean Squared Error:\", mse)\n",
        "    print(\"\")"
      ]
    },
    {
      "cell_type": "code",
      "source": [
        "!sudo apt-get update\n",
        "!sudo apt-get install texlive-xetex texlive-fonts-recommended texlive-generic-recommended"
      ],
      "metadata": {
        "colab": {
          "base_uri": "https://localhost:8080/"
        },
        "id": "iqziZ6Aj187d",
        "outputId": "151f938e-07a4-4990-f5e7-f0974c3af4a8"
      },
      "execution_count": 10,
      "outputs": [
        {
          "output_type": "stream",
          "name": "stdout",
          "text": [
            "\r0% [Working]\r            \rHit:1 http://archive.ubuntu.com/ubuntu focal InRelease\n",
            "\r0% [Waiting for headers] [Waiting for headers] [Connected to cloud.r-project.or\r                                                                               \rGet:2 http://archive.ubuntu.com/ubuntu focal-updates InRelease [114 kB]\n",
            "\r                                                                               \rGet:3 http://security.ubuntu.com/ubuntu focal-security InRelease [114 kB]\n",
            "Get:4 https://cloud.r-project.org/bin/linux/ubuntu focal-cran40/ InRelease [3,622 B]\n",
            "Get:5 http://archive.ubuntu.com/ubuntu focal-backports InRelease [108 kB]\n",
            "Get:6 http://ppa.launchpad.net/c2d4u.team/c2d4u4.0+/ubuntu focal InRelease [18.1 kB]\n",
            "Hit:7 http://ppa.launchpad.net/cran/libgit2/ubuntu focal InRelease\n",
            "Hit:8 http://ppa.launchpad.net/deadsnakes/ppa/ubuntu focal InRelease\n",
            "Get:9 https://developer.download.nvidia.com/compute/cuda/repos/ubuntu2004/x86_64  InRelease [1,581 B]\n",
            "Hit:10 http://ppa.launchpad.net/graphics-drivers/ppa/ubuntu focal InRelease\n",
            "Hit:11 http://ppa.launchpad.net/ubuntugis/ppa/ubuntu focal InRelease\n",
            "Get:12 http://security.ubuntu.com/ubuntu focal-security/universe amd64 Packages [1,017 kB]\n",
            "Get:13 http://security.ubuntu.com/ubuntu focal-security/main amd64 Packages [2,544 kB]\n",
            "Get:14 https://cloud.r-project.org/bin/linux/ubuntu focal-cran40/ Packages [73.4 kB]\n",
            "Get:15 http://archive.ubuntu.com/ubuntu focal-updates/universe amd64 Packages [1,313 kB]\n",
            "Get:16 http://archive.ubuntu.com/ubuntu focal-updates/main amd64 Packages [3,021 kB]\n",
            "Get:17 http://ppa.launchpad.net/c2d4u.team/c2d4u4.0+/ubuntu focal/main Sources [2,398 kB]\n",
            "Get:18 http://ppa.launchpad.net/c2d4u.team/c2d4u4.0+/ubuntu focal/main amd64 Packages [1,136 kB]\n",
            "Get:19 https://developer.download.nvidia.com/compute/cuda/repos/ubuntu2004/x86_64  Packages [920 kB]\n",
            "Fetched 12.8 MB in 8s (1,692 kB/s)\n",
            "Reading package lists... Done\n",
            "Reading package lists... Done\n",
            "^C\n"
          ]
        }
      ]
    },
    {
      "cell_type": "code",
      "source": [
        "!jupyter nbconvert --log-level CRITICAL --to pdf hw1_PCA.ipynb # make sure the ipynb name is correct"
      ],
      "metadata": {
        "colab": {
          "base_uri": "https://localhost:8080/"
        },
        "id": "2ujpqO852Hew",
        "outputId": "f37e58e7-ad38-43a5-dc65-2c222dcdcc4f"
      },
      "execution_count": 11,
      "outputs": [
        {
          "output_type": "stream",
          "name": "stdout",
          "text": [
            "Traceback (most recent call last):\n",
            "  File \"/usr/local/bin/jupyter-nbconvert\", line 5, in <module>\n",
            "    from nbconvert.nbconvertapp import main\n",
            "  File \"/usr/local/lib/python3.9/dist-packages/nbconvert/nbconvertapp.py\", line 194, in <module>\n",
            "    class NbConvertApp(JupyterApp):\n",
            "  File \"/usr/local/lib/python3.9/dist-packages/nbconvert/nbconvertapp.py\", line 346, in NbConvertApp\n",
            "    formats=get_export_names()\n",
            "  File \"/usr/local/lib/python3.9/dist-packages/nbconvert/exporters/base.py\", line 149, in get_export_names\n",
            "    e = get_exporter(exporter_name)(config=config)\n",
            "  File \"/usr/local/lib/python3.9/dist-packages/nbconvert/exporters/base.py\", line 100, in get_exporter\n",
            "    exporter = entrypoints.get_single(\"nbconvert.exporters\", name).load()\n",
            "  File \"/usr/local/lib/python3.9/dist-packages/entrypoints.py\", line 212, in get_single\n",
            "    for config, distro in iter_files_distros(path=path):\n",
            "  File \"/usr/local/lib/python3.9/dist-packages/entrypoints.py\", line 203, in iter_files_distros\n",
            "    cp.read([path])\n",
            "  File \"/usr/lib/python3.9/configparser.py\", line 697, in read\n",
            "    self._read(fp, filename)\n",
            "  File \"/usr/lib/python3.9/configparser.py\", line 1065, in _read\n",
            "    mo = self.SECTCRE.match(value)\n",
            "KeyboardInterrupt\n",
            "^C\n"
          ]
        }
      ]
    },
    {
      "cell_type": "code",
      "source": [],
      "metadata": {
        "id": "ya3BPMnepi-Y"
      },
      "execution_count": 11,
      "outputs": []
    }
  ],
  "metadata": {
    "colab": {
      "provenance": [],
      "include_colab_link": true
    },
    "kernelspec": {
      "display_name": "Python 3 (ipykernel)",
      "language": "python",
      "name": "python3"
    },
    "language_info": {
      "codemirror_mode": {
        "name": "ipython",
        "version": 3
      },
      "file_extension": ".py",
      "mimetype": "text/x-python",
      "name": "python",
      "nbconvert_exporter": "python",
      "pygments_lexer": "ipython3",
      "version": "3.8.16"
    },
    "vscode": {
      "interpreter": {
        "hash": "50292dbb1f747f7151d445135d392af3138fb3c65386d17d9510cb605222b10b"
      }
    }
  },
  "nbformat": 4,
  "nbformat_minor": 0
}