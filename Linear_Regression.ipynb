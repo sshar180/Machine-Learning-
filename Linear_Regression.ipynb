{
  "cells": [
    {
      "cell_type": "markdown",
      "metadata": {
        "id": "view-in-github",
        "colab_type": "text"
      },
      "source": [
        "<a href=\"https://colab.research.google.com/github/sshar180/Machine-Learning-/blob/main/Linear_Regression.ipynb\" target=\"_parent\"><img src=\"https://colab.research.google.com/assets/colab-badge.svg\" alt=\"Open In Colab\"/></a>"
      ]
    },
    {
      "cell_type": "markdown",
      "metadata": {
        "id": "hsywQWEI8pzj"
      },
      "source": [
        "# Overview \n",
        "In this assignment you will implement and test two supervised learning algorithms: linear regression (Question 1) and logistic regression (Question 2). \n",
        "\n",
        "For this assignment we will use the functionality of [Pandas](https://pandas.pydata.org/), [Matplotlib](https://matplotlib.org/), and [Numpy](http://www.numpy.org/).\n",
        "\n",
        "If you are asked to **implement** a particular functionality, you should **not** use an existing implementation from the libraries above (or some other library that you may find). When in doubt, please ask. \n",
        "\n",
        "Before you start, make sure you have installed all those packages in your local Jupyter instance.\n",
        "\n",
        "\n",
        "Read **all** cells carefully and answer **all** parts (both text and missing code). You will complete all the code marked `TODO` and answer descriptive/derivation questions."
      ]
    },
    {
      "cell_type": "code",
      "execution_count": 1,
      "metadata": {
        "id": "NM7-Cx4H-jTt"
      },
      "outputs": [],
      "source": [
        "import numpy as np\n",
        "import pandas as pd\n",
        "import matplotlib.pyplot as plt\n",
        "# import random as rand\n",
        "from sklearn.model_selection import train_test_split \n"
      ]
    },
    {
      "cell_type": "markdown",
      "metadata": {
        "id": "WHgsgFGF-kNA"
      },
      "source": [
        "# **Question 1: Linear Regression [12]**\n",
        "We will implement linear regression using direct solution and gradient descent. \n",
        "\n",
        "We will first attempt to predict output using a single attribute/feature. Then we will perform linear regression using multiple attributes/features. "
      ]
    },
    {
      "cell_type": "markdown",
      "metadata": {
        "id": "VR37r18FtEPo"
      },
      "source": [
        "### **Getting data [1]**\n",
        "In this assignment we will use the Boston housing dataset. \n",
        "\n",
        "The Boston housing data set was collected in the 1970s to study the relationship between house price and various factors such as the house size, crime rate, socio-economic status, etc.  Since the variables are easy to understand, the data set is ideal for learning basic concepts in machine learning.  The raw data and a complete description of the dataset can be found on the UCI website:\n",
        "https://archive.ics.uci.edu/ml/machine-learning-databases/housing/housing.names, \n",
        "https://archive.ics.uci.edu/ml/machine-learning-databases/housing/housing.data\n",
        "\n",
        "or \n",
        "\n",
        "http://www.ccs.neu.edu/home/vip/teach/MLcourse/data/housing_desc.txt\n",
        "\n",
        "I have supplied a list `names` of the column headers.  You will have to set the options in the `read_csv` command to correctly delimit the data in the file and name the columns correctly."
      ]
    },
    {
      "cell_type": "code",
      "execution_count": 2,
      "metadata": {
        "id": "PTv71Plf-vZJ"
      },
      "outputs": [],
      "source": [
        "names =[\n",
        "    'CRIM', 'ZN', 'INDUS', 'CHAS', 'NOX', 'RM', \n",
        "    'AGE',  'DIS', 'RAD', 'TAX', 'PTRATIO', 'B', 'LSTAT', 'PRICE'\n",
        "]\n",
        "\n",
        "df = pd.read_csv('https://archive.ics.uci.edu/ml/machine-learning-databases/housing/housing.data',\n",
        "                 header=None,delim_whitespace=True,names=names,na_values='?')"
      ]
    },
    {
      "cell_type": "markdown",
      "metadata": {
        "id": "ywadWSHsYEZd"
      },
      "source": [
        "Create a response vector `y` with the values in the column `PRICE`.  The vector `y` should be a 1D `numpy.array` structure."
      ]
    },
    {
      "cell_type": "code",
      "execution_count": 3,
      "metadata": {
        "id": "p2-zIA5vYOHA"
      },
      "outputs": [],
      "source": [
        "# TODO \n",
        "y = np.array(df.PRICE)"
      ]
    },
    {
      "cell_type": "markdown",
      "metadata": {
        "id": "l9UHZEggYKd0"
      },
      "source": [
        "Use the response vector `y` to find the mean house price in thousands and the fraction of homes that are above $40k. (You may realize this is very cheap.  Prices have gone up a lot since the 1970s!).   Create print statements of the form (replace `a`'s and `b`'s with the number you get):\n",
        "\n",
        "    The mean house price is aa.bb thousands of dollars.\n",
        "    Only a.b percent are above $40k."
      ]
    },
    {
      "cell_type": "code",
      "execution_count": 4,
      "metadata": {
        "id": "265qk4h2YUrc",
        "colab": {
          "base_uri": "https://localhost:8080/"
        },
        "outputId": "49d77cb8-f4b2-4fe2-e8cf-11061b4456e6"
      },
      "outputs": [
        {
          "output_type": "stream",
          "name": "stdout",
          "text": [
            "The mean house price is 22.53 thousands of dollers\n",
            "Only 6.1 percent are above $40k.\n"
          ]
        }
      ],
      "source": [
        "# TODO \n",
        "print(\"The mean house price is {:.2f} thousands of dollers\".format(y.mean()))\n",
        "\n",
        "y_val = np.where(y>40)[0]\n",
        "percent = (len(y_val)/len(y))*100\n",
        "print(\"Only {:.1f} percent are above $40k.\".format(percent))\n"
      ]
    },
    {
      "cell_type": "markdown",
      "metadata": {
        "id": "_zeK-Qoc0TXu"
      },
      "source": [
        "### **Visualizing the Data [1 point]**\n",
        "\n",
        "Python's `matplotlib` has very good routines for plotting and visualizing data that closely follows the format of MATLAB programs.  You can load the `matplotlib` package with the following commands."
      ]
    },
    {
      "cell_type": "code",
      "execution_count": 5,
      "metadata": {
        "collapsed": true,
        "id": "O5Hn63Id0TXu"
      },
      "outputs": [],
      "source": [
        "import matplotlib\n",
        "import matplotlib.pyplot as plt\n",
        "%matplotlib inline"
      ]
    },
    {
      "cell_type": "markdown",
      "metadata": {
        "id": "A8BLgPQQ0TXv"
      },
      "source": [
        "Similar to the `y` vector, create a predictor vector `x` containing the values in the `RM` column, which represents the average number of rooms in each region."
      ]
    },
    {
      "cell_type": "code",
      "execution_count": 6,
      "metadata": {
        "collapsed": true,
        "id": "wvkiFOUP0TXv"
      },
      "outputs": [],
      "source": [
        "# TODO\n",
        "x = np.array(df.RM)\n"
      ]
    },
    {
      "cell_type": "markdown",
      "metadata": {
        "id": "nZfFM3_z0TXv"
      },
      "source": [
        "Create a scatter plot of the `PRICE` vs. the `RM` attribute.  Make sure your plot has **grid lines** and label the axes with reasonable **labels** so that someone else can understand the plot."
      ]
    },
    {
      "cell_type": "code",
      "execution_count": 7,
      "metadata": {
        "collapsed": true,
        "id": "DXkjMSpY0TXv",
        "colab": {
          "base_uri": "https://localhost:8080/",
          "height": 893
        },
        "outputId": "2aafd30c-2d97-49d3-a9f2-3735d67c51ca"
      },
      "outputs": [
        {
          "output_type": "display_data",
          "data": {
            "text/plain": [
              "<Figure size 1080x1080 with 1 Axes>"
            ],
            "image/png": "[encoded data removed]"
          },
          "metadata": {
            "needs_background": "light"
          }
        }
      ],
      "source": [
        "# TODO\n",
        "plt.figure(figsize=(15,15))\n",
        "plt.scatter(x,y)\n",
        "plt.xlabel(\"average number of rooms per dwelling\")\n",
        "plt.ylabel(\"Price of the House (1k$)\")\n",
        "plt.title(\"Price vs. the RM\")\n",
        "plt.grid()\n",
        "plt.show()"
      ]
    },
    {
      "cell_type": "markdown",
      "metadata": {
        "id": "JJ6l2LRjvrEV"
      },
      "source": [
        "The number of rooms and price seem to have a linear trend, so let us try to predict price using number of rooms first. "
      ]
    },
    {
      "cell_type": "markdown",
      "metadata": {
        "id": "G-5e_O4x0TXv"
      },
      "source": [
        "### Derivation of a simple linear model for a single feature\n",
        "Suppose we have $N$ pairs of training samples $(x_1,y_1),\\ldots, (x_N,y_N)$, where $x_i \\in \\mathbb{R}$ and $y_i \\in \\mathbb{R}$. \n",
        "\n",
        "We want to perform a linear fit for this 1D data as \n",
        "$$y = wx+b,$$\n",
        "where $w\\in \\mathbb{R}$ and $b\\in \\mathbb{R}$. \n",
        "\n",
        "The optimal values of $w^*,b^*$ that minimize the loss function \n",
        "$$L(w,b) = \\sum_{i=1}^N(wx_i + b -y_i)^2$$ \n",
        "can be written as \n",
        "$$w^* = \\dfrac{\\sum_i (x_i-\\bar{x})(y_i-\\bar{y})}{\\sum_i (x_i - \\bar{x})^2}$$\n",
        "and $$b^* = \\bar{y} - w^*\\bar{x},$$\n",
        "where $\\bar{x} = \\frac{1}{N}\\sum_i x_i, \\bar{y} = \\frac{1}{N}\\sum_i y_i$ are mean values of $x_i,y_i$, respectively. \n",
        "\n"
      ]
    },
    {
      "cell_type": "markdown",
      "metadata": {
        "id": "v6wR2wx9nHRG"
      },
      "source": [
        "### **Fitting a linear model using a single feature [3 points]**\n",
        "\n",
        "Use the formulae above to compute the parameters $w,b$ in the linear model $y = wx + b$."
      ]
    },
    {
      "cell_type": "code",
      "execution_count": 8,
      "metadata": {
        "collapsed": true,
        "id": "HA-PyCGR0TXv"
      },
      "outputs": [],
      "source": [
        "def fit_linear(x,y):\n",
        "    \"\"\"\n",
        "    Given vectors of data points (x,y), performs a fit for the linear model:\n",
        "       yhat = w*x + b, \n",
        "    The function returns w and b\n",
        "    \"\"\"\n",
        "    # TODO complete the code below\n",
        "    \n",
        "    x_mean = np.mean(x)\n",
        "    y_mean = np.mean(y)\n",
        "\n",
        "    numerator = (np.sum(x*y) - (y_mean) * (np.sum(x)))\n",
        "    denominator = ((np.sum(x*x)) - (x_mean * (np.sum(x))))\n",
        "\n",
        "    w = numerator/denominator \n",
        "    b = (y_mean - (w * x_mean))\n",
        "    \n",
        "    return w, b"
      ]
    },
    {
      "cell_type": "markdown",
      "metadata": {
        "id": "GzO9Ehhg0TXw"
      },
      "source": [
        "Using the function `fit_linear` above, print the values `w`, `b` for the linear model of price vs. number of rooms."
      ]
    },
    {
      "cell_type": "code",
      "execution_count": 9,
      "metadata": {
        "id": "LxoaYYOz0TXw",
        "colab": {
          "base_uri": "https://localhost:8080/"
        },
        "outputId": "030682e8-852b-4225-9235-4da640912096"
      },
      "outputs": [
        {
          "output_type": "stream",
          "name": "stdout",
          "text": [
            "w =   9.1, b = -34.7\n"
          ]
        }
      ],
      "source": [
        "# TODO\n",
        "w, b = fit_linear(x,y)\n",
        "print('w = {0:5.1f}, b = {1:5.1f}'.format(w,b))"
      ]
    },
    {
      "cell_type": "markdown",
      "metadata": {
        "id": "bAj_BRcerz97"
      },
      "source": [
        "Does the price increase or decrease with the number of rooms? \n",
        "\n",
        "* The price will increase with the number of rooms since the slope w is positive *"
      ]
    },
    {
      "cell_type": "markdown",
      "metadata": {
        "id": "F71MzBOx0TXw"
      },
      "source": [
        "Replot the scatter plot above, but now with the regression line.  You can create the regression line by creating points `xp` from say min(x) to max(x), computing the linear predicted values `yp` on those points and plotting `yp` vs. `xp` on top of the above plot."
      ]
    },
    {
      "cell_type": "code",
      "execution_count": 10,
      "metadata": {
        "collapsed": true,
        "id": "rf9qJ_qY0TXw",
        "colab": {
          "base_uri": "https://localhost:8080/",
          "height": 894
        },
        "outputId": "886323b3-2290-4a18-defd-3871f037c806"
      },
      "outputs": [
        {
          "output_type": "execute_result",
          "data": {
            "text/plain": [
              "Text(0, 0.5, 'y')"
            ]
          },
          "metadata": {},
          "execution_count": 10
        },
        {
          "output_type": "display_data",
          "data": {
            "text/plain": [
              "<Figure size 1080x1080 with 1 Axes>"
            ],
            "image/png": "[encoded data removed]"
          },
          "metadata": {
            "needs_background": "light"
          }
        }
      ],
      "source": [
        "# TODO\n",
        "# Points on the regression line\n",
        "xp=x\n",
        "np.sort(xp) # x values from min to max\n",
        "\n",
        "yp = w* xp + b\n",
        "\n",
        "plt.figure(figsize=(15,15))\n",
        "plt.scatter(x, y, color = 'red')\n",
        "plt.plot(xp, yp, color = 'green')\n",
        "plt.xlabel('X')\n",
        "plt.ylabel('y')\n"
      ]
    },
    {
      "cell_type": "markdown",
      "metadata": {
        "id": "v_23tqcUdIfx"
      },
      "source": [
        "### **Linear regression with multiple features/attributes [3 points]**\n",
        "One possible way to try to improve the fit is to use multiple variables at the same time."
      ]
    },
    {
      "cell_type": "markdown",
      "metadata": {
        "id": "bpsZK-mYWyFS"
      },
      "source": [
        "In this problem, the target variable will still be the `PRICE`.  We will use multiple attributes of the house to predict the price.  \n",
        "\n",
        "The names of all the data attributes are given in variable `names`. \n",
        "* We can get the list of names of the columns from `df.columns.tolist()`.  \n",
        "* Remove the last items from the list using indexing."
      ]
    },
    {
      "cell_type": "code",
      "execution_count": 11,
      "metadata": {
        "id": "FYwmOGtxwuLA",
        "colab": {
          "base_uri": "https://localhost:8080/"
        },
        "outputId": "978d92a5-7eb9-42d8-fc1d-ccd595390de3"
      },
      "outputs": [
        {
          "output_type": "stream",
          "name": "stdout",
          "text": [
            "['CRIM', 'ZN', 'INDUS', 'CHAS', 'NOX', 'RM', 'AGE', 'DIS', 'RAD', 'TAX', 'PTRATIO', 'B', 'LSTAT']\n"
          ]
        }
      ],
      "source": [
        "xnames = names[:-1]\n",
        "print(names[:-1])"
      ]
    },
    {
      "cell_type": "markdown",
      "metadata": {
        "id": "mLDuJkzNxUQu"
      },
      "source": [
        "Let us use `CRIM`, `RM`, and `LSTAT` to predict `PRICE`. \n",
        "\n",
        "Get the data matrix `X` with three features (`CRIM`, `RM`, `LSTAT`) and target vector `y` from the dataframe `df`.  \n",
        "\n",
        "Recall that to get the items from a dataframe, you can use syntax such as\n",
        "\n",
        "    s = np.array(df['RM'])  \n",
        "        \n",
        "which gets the data in the column `RM` and puts it into an array `s`.  You can also get multiple columns with syntax like\n",
        "\n",
        "    X12 = np.array(df[['CRIM', 'ZN']])  \n"
      ]
    },
    {
      "cell_type": "code",
      "execution_count": 12,
      "metadata": {
        "id": "Zp9Gk4O8FSty"
      },
      "outputs": [],
      "source": [
        "# TODO\n",
        "# X = ...\n",
        "X = np.array(df[['CRIM', 'RM', 'LSTAT']])\n",
        "y = np.array(df.PRICE)\n"
      ]
    },
    {
      "cell_type": "markdown",
      "metadata": {
        "id": "jfHwrw4mzuS6"
      },
      "source": [
        "**Linear regression in scikit-learn**\n",
        "\n",
        "To fit the linear model, we could create a regression object and then fit the training data with regression object.\n",
        "\n",
        "```python\n",
        "from sklearn import linear_model\n",
        "regr = linear_model.LinearRegression()\n",
        "regr.fit(X_train,y_train)\n",
        "```\n",
        "\n",
        "You can see the coefficients as\n",
        "```python\n",
        "regr.intercept_\n",
        "regr.coef_\n",
        "```\n",
        "\n",
        "We can predict output for any data as \n",
        "```python\n",
        "y_pred = regr.predict(X)\n",
        "```\n",
        "**Instead of taking this approach, we will implement the regression function directly.**"
      ]
    },
    {
      "cell_type": "markdown",
      "metadata": {
        "id": "0Pche190FSty"
      },
      "source": [
        "**Split the Data into Training and Test**\n",
        "\n",
        "Split the data into training and test.  Use 30% for test and 70% for training.  You can do the splitting manually or use the `sklearn` package `train_test_split`.   Store the training data in `Xtr,ytr` and test data in `Xts,yts`.\n"
      ]
    },
    {
      "cell_type": "code",
      "execution_count": 13,
      "metadata": {
        "id": "8t88nZxdFSty",
        "colab": {
          "base_uri": "https://localhost:8080/"
        },
        "outputId": "5bf053c7-5f69-444d-c6bc-860e56eb16df"
      },
      "outputs": [
        {
          "output_type": "stream",
          "name": "stdout",
          "text": [
            "Shape of X is (506, 3) and y is (506,)\n",
            "Shape of Xtr,Xts,ytr,yts are (354, 3) (152, 3) (354,) (152,)\n"
          ]
        }
      ],
      "source": [
        "# TODO\n",
        "from sklearn.model_selection import train_test_split\n",
        "\n",
        "# TODO \n",
        "# your code here \n",
        "Xtr,Xts,ytr,yts = train_test_split(X,y,test_size=.3)\n",
        "print(\"Shape of X is {} and y is {}\".format(X.shape,y.shape))\n",
        "print(\"Shape of Xtr,Xts,ytr,yts are {} {} {} {}\".format(Xtr.shape,Xts.shape,ytr.shape,yts.shape))"
      ]
    },
    {
      "cell_type": "markdown",
      "metadata": {
        "id": "QCWqasJL9I6h"
      },
      "source": [
        "Compute the predicted values `yhat_tr` on the training data and print the average square loss value on the **training** data."
      ]
    },
    {
      "cell_type": "code",
      "execution_count": 14,
      "metadata": {
        "id": "MXtUFymP9M0P",
        "colab": {
          "base_uri": "https://localhost:8080/"
        },
        "outputId": "e63dd546-7854-4439-9e4c-af4d2de12aae"
      },
      "outputs": [
        {
          "output_type": "execute_result",
          "data": {
            "text/plain": [
              "array([-0.07785344,  4.90346457, -0.62742126])"
            ]
          },
          "metadata": {},
          "execution_count": 14
        }
      ],
      "source": [
        "# TODO \n",
        "w = np.dot(np.linalg.inv(np.dot(Xtr.T, Xtr)), np.dot(Xtr.T, ytr))\n",
        "w\n"
      ]
    },
    {
      "cell_type": "code",
      "source": [
        "import numpy as np\n",
        "\n",
        "def average_square_loss(y_true, y_pred):\n",
        "    assert len(y_true) == len(y_pred), \"y_true and y_pred must have the same length\"\n",
        "    n = len(y_true)\n",
        "    mse = np.sum((y_true - y_pred)**2) / n\n",
        "    return mse"
      ],
      "metadata": {
        "id": "ACeyQDCDCkVb"
      },
      "execution_count": 15,
      "outputs": []
    },
    {
      "cell_type": "code",
      "source": [
        "yhat_tr=[]\n",
        "final_loss = 0\n",
        "def predict(x_input):\n",
        "  return np.dot(x_input, w)\n",
        "\n",
        "for x_data in Xtr:\n",
        "  yhat_tr.append(predict(x_data))\n",
        "\n",
        "print(\"Average square loss value on the train data is {}\".format(average_square_loss(ytr, yhat_tr)))"
      ],
      "metadata": {
        "colab": {
          "base_uri": "https://localhost:8080/"
        },
        "id": "QtMdxvnLCl05",
        "outputId": "70cd4a10-f839-433e-907c-639b7cb6b3eb"
      },
      "execution_count": 16,
      "outputs": [
        {
          "output_type": "stream",
          "name": "stdout",
          "text": [
            "Average square loss value on the train data is 32.27777954987993\n"
          ]
        }
      ]
    },
    {
      "cell_type": "markdown",
      "metadata": {
        "id": "IGcEO0ggFStz"
      },
      "source": [
        "Create a scatter plot of the actual vs. predicted values of `y` on the **training** data."
      ]
    },
    {
      "cell_type": "code",
      "execution_count": 17,
      "metadata": {
        "id": "-r__jPyk-Em-",
        "colab": {
          "base_uri": "https://localhost:8080/",
          "height": 893
        },
        "outputId": "6ab5fb91-62df-4163-f3cb-73f663444215"
      },
      "outputs": [
        {
          "output_type": "display_data",
          "data": {
            "text/plain": [
              "<Figure size 1080x1080 with 1 Axes>"
            ],
            "image/png": "[encoded data removed]"
          },
          "metadata": {
            "needs_background": "light"
          }
        }
      ],
      "source": [
        "# TODO\n",
        "plt.figure(figsize = [15,15])\n",
        "line_x = np.linspace(0, 50, 100)\n",
        "line_y= line_x\n",
        "plt.scatter(ytr,yhat_tr, color='g')\n",
        "plt.plot(line_x,line_y,'r')\n",
        "plt.xlabel('Actual Values')\n",
        "plt.ylabel('Predicted Values')\n",
        "plt.title('Actual vs Predicted Values of Y ')\n",
        "plt.grid()\n",
        "plt.show() \n"
      ]
    },
    {
      "cell_type": "markdown",
      "metadata": {
        "id": "1HCzNYlm-UxT"
      },
      "source": [
        "Compute the predicted values `yhat_ts` on the test data and print the average square loss value on the **test** data."
      ]
    },
    {
      "cell_type": "code",
      "source": [
        "yhat_ts=[]\n",
        "final_loss_ts = 0\n",
        "def predict(x_input):\n",
        "  return np.dot(x_input, w)\n",
        "\n",
        "for x_data in Xts:\n",
        "  yhat_ts.append(predict(x_data))\n",
        "\n",
        "print(\"Average square loss value on the test data is {}\".format(average_square_loss(yts, yhat_ts)))\n"
      ],
      "metadata": {
        "colab": {
          "base_uri": "https://localhost:8080/"
        },
        "id": "GuU96G7kBnWC",
        "outputId": "dd5859b2-6b5e-40b7-d600-b1fb28dcd94d"
      },
      "execution_count": 18,
      "outputs": [
        {
          "output_type": "stream",
          "name": "stdout",
          "text": [
            "Average square loss value on the test data is 24.61439903743464\n"
          ]
        }
      ]
    },
    {
      "cell_type": "markdown",
      "metadata": {
        "id": "W7i50wvq-CWO"
      },
      "source": [
        "Create a scatter plot of the actual vs. predicted values of `y` on the **test** data."
      ]
    },
    {
      "cell_type": "code",
      "execution_count": 19,
      "metadata": {
        "id": "q8dnwG94FStz",
        "colab": {
          "base_uri": "https://localhost:8080/",
          "height": 893
        },
        "outputId": "0d7ca161-6757-4723-a4c8-fa7c91dcb739"
      },
      "outputs": [
        {
          "output_type": "display_data",
          "data": {
            "text/plain": [
              "<Figure size 1080x1080 with 1 Axes>"
            ],
            "image/png": "[encoded data removed]"
          },
          "metadata": {
            "needs_background": "light"
          }
        }
      ],
      "source": [
        "# TODO\n",
        "# TODO \n",
        "# your code here \n",
        "plt.figure(figsize = [15,15])\n",
        "line_x = np.linspace(0, 50, 100)\n",
        "line_y= line_x\n",
        "plt.scatter(yts,yhat_ts, color='g')\n",
        "plt.plot(line_x,line_y,'r')\n",
        "plt.xlabel('Actual Values')\n",
        "plt.ylabel('Predicted Values')\n",
        "plt.title('Actual vs Predicted Values of Y ')\n",
        "plt.grid()\n",
        "plt.show() \n",
        "\n"
      ]
    },
    {
      "cell_type": "markdown",
      "metadata": {
        "id": "B75oOA9NCMwg"
      },
      "source": [
        "### **Gradient descent for linear regression [2 points]**\n",
        "Finally, we will implement the gradient descent version of linear regression.\n",
        "\n"
      ]
    },
    {
      "cell_type": "markdown",
      "metadata": {
        "id": "RxYlKzLIxf98"
      },
      "source": [
        "In particular, the function implemented should follow the following format:\n",
        "```python\n",
        "def linear_regression_gd(X,y,learning_rate = 0.00001,max_iter=10000,tol=pow(10,-5)):\n",
        "```\n",
        "where `X` is the same data matrix used above (with ones column appended), `y` is the variable to be predicted, `learning_rate` is the learning rate used ($\\alpha$ or $\\rho_t$ in the slides), `max_iter` defines the maximum number of iterations that gradient descent is allowed to run, and `tol` is defining the tolerance for convergence (which we'll discuss next).\n",
        "\n",
        "The return values for the above function should be (at the least) 1) `w` which are the regression parameters, 2) `all_cost` which is an array where each position contains the value of the objective function $L(\\mathbf{w})$ for a given iteration, 3) `iters` which counts how many iterations did the algorithm need in order to converge to a solution.\n",
        "\n",
        "Gradient descent is an iterative algorithm; it keeps updating the variables until a convergence criterion is met. In our case, our convergence criterion is whichever of the following two criteria happens first:\n",
        "\n",
        "- The maximum number of iterations is met\n",
        "- The relative improvement in the cost is not greater than the tolerance we have specified. For this criterion, you may use the following snippet into your code:\n",
        "```python\n",
        "np.absolute(all_cost[it] - all_cost[it-1])/all_cost[it-1] <= tol\n",
        "```"
      ]
    },
    {
      "cell_type": "code",
      "execution_count": 20,
      "metadata": {
        "id": "rI3bPa4CY7XW"
      },
      "outputs": [],
      "source": [
        "# TODO \n",
        "# Implement gradient descent for linear regression \n",
        "\n",
        "def compute_cost(X,w,y):\n",
        "    # your code for the loss function goes here \n",
        "    L = (np.linalg.norm(y-(X.dot(w)),2))**2\n",
        "    return L\n",
        "\n",
        "def linear_regression_gd(X,y,learning_rate = 0.00001,max_iter=10000,tol=pow(10,-5)):\n",
        "    # your code goes here \n",
        "    iters = 0\n",
        "    w = np.zeros(X[0].shape[0])\n",
        "    all_cost=[]\n",
        "    for i in range(max_iter):\n",
        "      errors = X.dot(w) -y\n",
        "      grad = (X.T).dot(errors)\n",
        "      w = w - learning_rate*grad\n",
        "      all_cost.append(compute_cost(X,w,y))\n",
        "      iters =  iters + 1\n",
        "    return w, all_cost, iters"
      ]
    },
    {
      "cell_type": "markdown",
      "metadata": {
        "id": "dN2e6tsuY8Nq"
      },
      "source": [
        "### **Convergence plots [2 points]**\n",
        "After implementing gradient descent for linear regression, we would like to test that indeed our algorithm converges to a solution. In order see this, we are going to look at the value of the objective/loss function $L(\\mathbf{w})$ as a function of the number of iterations, and ideally, what we would like to see is $L(\\mathbf{w})$ drops as we run more iterations, and eventually it stabilizes. \n",
        "\n",
        "The learning rate plays a big role in how fast our algorithm converges: a larger learning rate means that the algorithm is making faster strides to the solution, whereas a smaller learning rate implies slower steps. In this question we are going to test two different values for the learning rate:\n",
        "- 0.00001\n",
        "- 0.000001\n",
        "\n",
        "while keeping the default values for the max number of iterations and the tolerance.\n",
        "\n",
        "\n",
        "- Plot the two convergence plots (cost(loss) vs. iterations)\n",
        "\n",
        "- What do you observe?\n",
        "\n"
      ]
    },
    {
      "cell_type": "code",
      "execution_count": 21,
      "metadata": {
        "id": "1vbaLoa7ZB_8",
        "colab": {
          "base_uri": "https://localhost:8080/",
          "height": 623
        },
        "outputId": "99cf9af6-d69d-44b7-9b35-2693d920b592"
      },
      "outputs": [
        {
          "output_type": "execute_result",
          "data": {
            "text/plain": [
              "Text(0, 0.5, 'Training loss')"
            ]
          },
          "metadata": {},
          "execution_count": 21
        },
        {
          "output_type": "display_data",
          "data": {
            "text/plain": [
              "<Figure size 720x720 with 1 Axes>"
            ],
            "image/png": "[encoded data removed]"
          },
          "metadata": {
            "needs_background": "light"
          }
        }
      ],
      "source": [
        "# TODO \n",
        "# test gradient descent with step size 0.00001\n",
        "# test gradient descent with step size 0.000001\n",
        "\n",
        "(w, all_cost,iters) = linear_regression_gd(Xtr,ytr,learning_rate = 0.00001,max_iter = 1000, tol=pow(10,-6))  \n",
        "(w, all_cost2,iters2) = linear_regression_gd(Xtr,ytr,learning_rate = 0.000001,max_iter = 1000, tol=pow(10,-6))\n",
        "  \n",
        "plt.figure(figsize=[10,10])\n",
        "plt.semilogy(all_cost[0:iters], label = \"Step Size = 0.00001\")   \n",
        "plt.semilogy(all_cost2[0:iters2], label = \"Step Size = 0.000001\")    \n",
        "plt.grid()\n",
        "plt.legend()\n",
        "plt.xlabel('Iteration')\n",
        "plt.ylabel('Training loss')  \n",
        "\n",
        "# complete the rest"
      ]
    },
    {
      "cell_type": "markdown",
      "metadata": {
        "id": "KRU51zCtZAtP"
      },
      "source": [
        "Observations: \n",
        "\n",
        "1. With Iterations the loss is reducing.\n",
        "1. We can observe that the rate of convergence is significantly slower for the smaller learning rate of 0.000001 compared to the higher learning rate of 0.00001. This is because slower steps towards the goal function's minimum, which needs more iterations to reach, are implied by a lower learning rate."
      ]
    },
    {
      "cell_type": "markdown",
      "metadata": {
        "id": "_7FVGGI_aqre"
      },
      "source": [
        "# **Question 2. Logistic Regression [8 points]**\n",
        "\n",
        "In this question, we will plot the logistic function and perform logistic regression. We will use the breast cancer data set.  This data set is described here: https://archive.ics.uci.edu/ml/machine-learning-databases/breast-cancer-wisconsin.\n",
        "\n",
        "Each sample is a collection of features that were manually recorded by a physician upon inspecting a sample of cells from fine needle aspiration.  The goal is to detect if the cells are benign or malignant.  \n",
        "\n",
        "We could use the `sklearn` built-in `LogisticRegression` class to find the weights for the logistic regression problem.  The `fit` routine in that class has an *optimizer* to select the weights to best match the data.  To understand how that optimizer works, in this problem, we will build a very simple gradient descent optimizer from scratch.  "
      ]
    },
    {
      "cell_type": "markdown",
      "metadata": {
        "id": "EHaz8CZBfUVr"
      },
      "source": [
        "### Loading and visualizing the Breast Cancer Data\n",
        "\n",
        "We load the data from the UCI site and remove the missing values."
      ]
    },
    {
      "cell_type": "code",
      "execution_count": 22,
      "metadata": {
        "id": "4RdmLqolffmw",
        "colab": {
          "base_uri": "https://localhost:8080/",
          "height": 237
        },
        "outputId": "35f45f27-95e2-4bab-bfb3-ee486c474513"
      },
      "outputs": [
        {
          "output_type": "execute_result",
          "data": {
            "text/plain": [
              "        id  thick  size_unif  shape_unif  marg  cell_size  bare  chrom  \\\n",
              "0  1000025      5          1           1     1          2   1.0      3   \n",
              "1  1002945      5          4           4     5          7  10.0      3   \n",
              "2  1015425      3          1           1     1          2   2.0      3   \n",
              "3  1016277      6          8           8     1          3   4.0      3   \n",
              "4  1017023      4          1           1     3          2   1.0      3   \n",
              "5  1017122      8         10          10     8          7  10.0      9   \n",
              "\n",
              "   normal  mit  class  \n",
              "0       1    1      2  \n",
              "1       2    1      2  \n",
              "2       1    1      2  \n",
              "3       7    1      2  \n",
              "4       1    1      2  \n",
              "5       7    1      4  "
            ],
            "text/html": [
              "\n",
              "  <div id=\"df-7afede19-bbb7-4c03-ba7e-2a1c216544fe\">\n",
              "    <div class=\"colab-df-container\">\n",
              "      <div>\n",
              "<style scoped>\n",
              "    .dataframe tbody tr th:only-of-type {\n",
              "        vertical-align: middle;\n",
              "    }\n",
              "\n",
              "    .dataframe tbody tr th {\n",
              "        vertical-align: top;\n",
              "    }\n",
              "\n",
              "    .dataframe thead th {\n",
              "        text-align: right;\n",
              "    }\n",
              "</style>\n",
              "<table border=\"1\" class=\"dataframe\">\n",
              "  <thead>\n",
              "    <tr style=\"text-align: right;\">\n",
              "      <th></th>\n",
              "      <th>id</th>\n",
              "      <th>thick</th>\n",
              "      <th>size_unif</th>\n",
              "      <th>shape_unif</th>\n",
              "      <th>marg</th>\n",
              "      <th>cell_size</th>\n",
              "      <th>bare</th>\n",
              "      <th>chrom</th>\n",
              "      <th>normal</th>\n",
              "      <th>mit</th>\n",
              "      <th>class</th>\n",
              "    </tr>\n",
              "  </thead>\n",
              "  <tbody>\n",
              "    <tr>\n",
              "      <th>0</th>\n",
              "      <td>1000025</td>\n",
              "      <td>5</td>\n",
              "      <td>1</td>\n",
              "      <td>1</td>\n",
              "      <td>1</td>\n",
              "      <td>2</td>\n",
              "      <td>1.0</td>\n",
              "      <td>3</td>\n",
              "      <td>1</td>\n",
              "      <td>1</td>\n",
              "      <td>2</td>\n",
              "    </tr>\n",
              "    <tr>\n",
              "      <th>1</th>\n",
              "      <td>1002945</td>\n",
              "      <td>5</td>\n",
              "      <td>4</td>\n",
              "      <td>4</td>\n",
              "      <td>5</td>\n",
              "      <td>7</td>\n",
              "      <td>10.0</td>\n",
              "      <td>3</td>\n",
              "      <td>2</td>\n",
              "      <td>1</td>\n",
              "      <td>2</td>\n",
              "    </tr>\n",
              "    <tr>\n",
              "      <th>2</th>\n",
              "      <td>1015425</td>\n",
              "      <td>3</td>\n",
              "      <td>1</td>\n",
              "      <td>1</td>\n",
              "      <td>1</td>\n",
              "      <td>2</td>\n",
              "      <td>2.0</td>\n",
              "      <td>3</td>\n",
              "      <td>1</td>\n",
              "      <td>1</td>\n",
              "      <td>2</td>\n",
              "    </tr>\n",
              "    <tr>\n",
              "      <th>3</th>\n",
              "      <td>1016277</td>\n",
              "      <td>6</td>\n",
              "      <td>8</td>\n",
              "      <td>8</td>\n",
              "      <td>1</td>\n",
              "      <td>3</td>\n",
              "      <td>4.0</td>\n",
              "      <td>3</td>\n",
              "      <td>7</td>\n",
              "      <td>1</td>\n",
              "      <td>2</td>\n",
              "    </tr>\n",
              "    <tr>\n",
              "      <th>4</th>\n",
              "      <td>1017023</td>\n",
              "      <td>4</td>\n",
              "      <td>1</td>\n",
              "      <td>1</td>\n",
              "      <td>3</td>\n",
              "      <td>2</td>\n",
              "      <td>1.0</td>\n",
              "      <td>3</td>\n",
              "      <td>1</td>\n",
              "      <td>1</td>\n",
              "      <td>2</td>\n",
              "    </tr>\n",
              "    <tr>\n",
              "      <th>5</th>\n",
              "      <td>1017122</td>\n",
              "      <td>8</td>\n",
              "      <td>10</td>\n",
              "      <td>10</td>\n",
              "      <td>8</td>\n",
              "      <td>7</td>\n",
              "      <td>10.0</td>\n",
              "      <td>9</td>\n",
              "      <td>7</td>\n",
              "      <td>1</td>\n",
              "      <td>4</td>\n",
              "    </tr>\n",
              "  </tbody>\n",
              "</table>\n",
              "</div>\n",
              "      <button class=\"colab-df-convert\" onclick=\"convertToInteractive('df-7afede19-bbb7-4c03-ba7e-2a1c216544fe')\"\n",
              "              title=\"Convert this dataframe to an interactive table.\"\n",
              "              style=\"display:none;\">\n",
              "        \n",
              "  <svg xmlns=\"http://www.w3.org/2000/svg\" height=\"24px\"viewBox=\"0 0 24 24\"\n",
              "       width=\"24px\">\n",
              "    <path d=\"M0 0h24v24H0V0z\" fill=\"none\"/>\n",
              "    <path d=\"M18.56 5.44l.94 2.06.94-2.06 2.06-.94-2.06-.94-.94-2.06-.94 2.06-2.06.94zm-11 1L8.5 8.5l.94-2.06 2.06-.94-2.06-.94L8.5 2.5l-.94 2.06-2.06.94zm10 10l.94 2.06.94-2.06 2.06-.94-2.06-.94-.94-2.06-.94 2.06-2.06.94z\"/><path d=\"M17.41 7.96l-1.37-1.37c-.4-.4-.92-.59-1.43-.59-.52 0-1.04.2-1.43.59L10.3 9.45l-7.72 7.72c-.78.78-.78 2.05 0 2.83L4 21.41c.39.39.9.59 1.41.59.51 0 1.02-.2 1.41-.59l7.78-7.78 2.81-2.81c.8-.78.8-2.07 0-2.86zM5.41 20L4 18.59l7.72-7.72 1.47 1.35L5.41 20z\"/>\n",
              "  </svg>\n",
              "      </button>\n",
              "      \n",
              "  <style>\n",
              "    .colab-df-container {\n",
              "      display:flex;\n",
              "      flex-wrap:wrap;\n",
              "      gap: 12px;\n",
              "    }\n",
              "\n",
              "    .colab-df-convert {\n",
              "      background-color: #E8F0FE;\n",
              "      border: none;\n",
              "      border-radius: 50%;\n",
              "      cursor: pointer;\n",
              "      display: none;\n",
              "      fill: #1967D2;\n",
              "      height: 32px;\n",
              "      padding: 0 0 0 0;\n",
              "      width: 32px;\n",
              "    }\n",
              "\n",
              "    .colab-df-convert:hover {\n",
              "      background-color: #E2EBFA;\n",
              "      box-shadow: 0px 1px 2px rgba(60, 64, 67, 0.3), 0px 1px 3px 1px rgba(60, 64, 67, 0.15);\n",
              "      fill: #174EA6;\n",
              "    }\n",
              "\n",
              "    [theme=dark] .colab-df-convert {\n",
              "      background-color: #3B4455;\n",
              "      fill: #D2E3FC;\n",
              "    }\n",
              "\n",
              "    [theme=dark] .colab-df-convert:hover {\n",
              "      background-color: #434B5C;\n",
              "      box-shadow: 0px 1px 3px 1px rgba(0, 0, 0, 0.15);\n",
              "      filter: drop-shadow(0px 1px 2px rgba(0, 0, 0, 0.3));\n",
              "      fill: #FFFFFF;\n",
              "    }\n",
              "  </style>\n",
              "\n",
              "      <script>\n",
              "        const buttonEl =\n",
              "          document.querySelector('#df-7afede19-bbb7-4c03-ba7e-2a1c216544fe button.colab-df-convert');\n",
              "        buttonEl.style.display =\n",
              "          google.colab.kernel.accessAllowed ? 'block' : 'none';\n",
              "\n",
              "        async function convertToInteractive(key) {\n",
              "          const element = document.querySelector('#df-7afede19-bbb7-4c03-ba7e-2a1c216544fe');\n",
              "          const dataTable =\n",
              "            await google.colab.kernel.invokeFunction('convertToInteractive',\n",
              "                                                     [key], {});\n",
              "          if (!dataTable) return;\n",
              "\n",
              "          const docLinkHtml = 'Like what you see? Visit the ' +\n",
              "            '<a target=\"_blank\" href=https://colab.research.google.com/notebooks/data_table.ipynb>data table notebook</a>'\n",
              "            + ' to learn more about interactive tables.';\n",
              "          element.innerHTML = '';\n",
              "          dataTable['output_type'] = 'display_data';\n",
              "          await google.colab.output.renderOutput(dataTable, element);\n",
              "          const docLink = document.createElement('div');\n",
              "          docLink.innerHTML = docLinkHtml;\n",
              "          element.appendChild(docLink);\n",
              "        }\n",
              "      </script>\n",
              "    </div>\n",
              "  </div>\n",
              "  "
            ]
          },
          "metadata": {},
          "execution_count": 22
        }
      ],
      "source": [
        "names = ['id','thick','size_unif','shape_unif','marg','cell_size','bare',\n",
        "         'chrom','normal','mit','class']\n",
        "df = pd.read_csv('https://archive.ics.uci.edu/ml/machine-learning-databases/' +\n",
        "                 'breast-cancer-wisconsin/breast-cancer-wisconsin.data',\n",
        "                names=names,na_values='?',header=None)\n",
        "df = df.dropna()\n",
        "df.head(6)"
      ]
    },
    {
      "cell_type": "markdown",
      "metadata": {
        "id": "3EEPMsFmfpqS"
      },
      "source": [
        "After loading the data, we can create a scatter plot of the data labeling the class values with different colors.  We will pick two of the features.  "
      ]
    },
    {
      "cell_type": "code",
      "execution_count": 23,
      "metadata": {
        "id": "rXSf9mKtfwbF",
        "colab": {
          "base_uri": "https://localhost:8080/",
          "height": 307
        },
        "outputId": "86d45b42-e49d-4485-e004-6ef88f447dd8"
      },
      "outputs": [
        {
          "output_type": "execute_result",
          "data": {
            "text/plain": [
              "<matplotlib.legend.Legend at 0x7fb50308b550>"
            ]
          },
          "metadata": {},
          "execution_count": 23
        },
        {
          "output_type": "display_data",
          "data": {
            "text/plain": [
              "<Figure size 432x288 with 1 Axes>"
            ],
            "image/png": "[encoded data removed]"
          },
          "metadata": {
            "needs_background": "light"
          }
        }
      ],
      "source": [
        "# Get the response.  Convert to a zero-one indicator \n",
        "yraw = np.array(df['class'])\n",
        "BEN_VAL = 2   # value in the 'class' label for benign samples\n",
        "MAL_VAL = 4   # value in the 'class' label for malignant samples\n",
        "y = (yraw == MAL_VAL).astype(int)\n",
        "Iben = (y==0)\n",
        "Imal = (y==1)\n",
        "\n",
        "# Get two predictors\n",
        "xnames =['size_unif','marg'] \n",
        "X = np.array(df[xnames])\n",
        "\n",
        "# Create the scatter plot\n",
        "plt.plot(X[Imal,0],X[Imal,1],'r.')\n",
        "plt.plot(X[Iben,0],X[Iben,1],'g.')\n",
        "plt.xlabel(xnames[0], fontsize=16)\n",
        "plt.ylabel(xnames[1], fontsize=16)\n",
        "plt.ylim(0,14)\n",
        "plt.legend(['malign','benign'],loc='upper right')"
      ]
    },
    {
      "cell_type": "markdown",
      "metadata": {
        "id": "UY5fLe90gCnU"
      },
      "source": [
        "The above plot is not informative, since many of the points are on top of one another.  Thus, we cannot see the relative frequency of points.  "
      ]
    },
    {
      "cell_type": "markdown",
      "metadata": {
        "id": "kyhRv_1hhOj3"
      },
      "source": [
        "We see that $\\sigma(wx+b)$ represents the probability that $y=1$.  The function $\\sigma(wx) > 0.5$ for $x>0$ meaning the samples are more likely to be $y=1$.  Similarly, for $x<0$, the samples are more likely to be $y=0$.  The scaling $w$ determines how fast that transition is and $b$ influences the transition point.  "
      ]
    },
    {
      "cell_type": "markdown",
      "metadata": {
        "id": "Dr2_5WR2cY9p"
      },
      "source": [
        "### **Fitting the Logistic Model on Two  Variables**\n",
        "\n",
        "We will fit the logistic model on the two variables `size_unif` and `marg`."
      ]
    },
    {
      "cell_type": "code",
      "execution_count": 24,
      "metadata": {
        "id": "WQPUSMlTcY9q",
        "colab": {
          "base_uri": "https://localhost:8080/"
        },
        "outputId": "00aa9261-92d2-4e7d-be28-8416d54990b6"
      },
      "outputs": [
        {
          "output_type": "stream",
          "name": "stdout",
          "text": [
            "(683, 2)\n"
          ]
        }
      ],
      "source": [
        "# load data \n",
        "xnames =['size_unif','marg'] \n",
        "X = np.array(df[xnames])\n",
        "print(X.shape)"
      ]
    },
    {
      "cell_type": "markdown",
      "metadata": {
        "id": "zvgB0iCCcY9q"
      },
      "source": [
        "Next we split the data into training and test. Use 30% for test and 70% for training.  You can do the splitting manually or use the `sklearn` package `train_test_split`.   Store the training data in `Xtr,ytr` and test data in `Xts,yts`."
      ]
    },
    {
      "cell_type": "code",
      "execution_count": 25,
      "metadata": {
        "id": "2oC7pomCcY9q"
      },
      "outputs": [],
      "source": [
        "# TODO\n",
        "# Split into training and test\n",
        "from sklearn.model_selection import train_test_split\n",
        "Xtr, Xts, ytr, yts = train_test_split(X,y, test_size=0.30)\n"
      ]
    },
    {
      "cell_type": "markdown",
      "metadata": {
        "id": "Qr4ru1WYcY9v"
      },
      "source": [
        "**Logistic regression in scikit-learn**\n",
        "\n",
        "The actual fitting is easy with the `sklearn` package.  The parameter `C` \n",
        "states the level of inverse regularization strength with higher values meaning less regularization. Right now, we will select a high value to minimally regularize the estimate.\n",
        "\n",
        "We can also measure the accuracy on the test data. You should get an accuracy around 90%. "
      ]
    },
    {
      "cell_type": "code",
      "execution_count": 26,
      "metadata": {
        "id": "lKGhsUYfzUx3",
        "colab": {
          "base_uri": "https://localhost:8080/"
        },
        "outputId": "a90d3ef4-6c2f-4d4f-de5c-d4c94df50fe4"
      },
      "outputs": [
        {
          "output_type": "stream",
          "name": "stdout",
          "text": [
            "[[1.26078472 0.39150038]]\n",
            "[-5.22968744]\n",
            "Accuracy on test data = 0.946341\n"
          ]
        }
      ],
      "source": [
        "from sklearn import datasets, linear_model, preprocessing\n",
        "reg = linear_model.LogisticRegression(C=1e5)\n",
        "reg.fit(Xtr, ytr)\n",
        "\n",
        "print(reg.coef_)\n",
        "print(reg.intercept_)\n",
        "\n",
        "yhat = reg.predict(Xts)\n",
        "acc = np.mean(yhat == yts)\n",
        "print(\"Accuracy on test data = %f\" % acc)"
      ]
    },
    {
      "cell_type": "markdown",
      "metadata": {
        "id": "dOhsTYG6zXDk"
      },
      "source": [
        "**Instead of taking this approach, we will implement the regression function using gradient descent.**"
      ]
    },
    {
      "cell_type": "markdown",
      "metadata": {
        "id": "KCTbi1wTcbIn"
      },
      "source": [
        "### **Gradient descent for logistic regression [4 points]**\n",
        "The weight vector can be found by minimizing the negative log likelihood over $N$ training samples.  The negative log likelihood is called the *loss* function.  For the logistic regression problem, the loss function simplifies to\n",
        "\n",
        "$$L(\\mathbf{w}) = - \\sum_{i=1}^N y_i \\log \\sigma(\\mathbf{w}^T\\mathbf{x}_i+b) + (1-y_i)\\log [1-\\sigma(\\mathbf{w}^T\\mathbf{x}_i+b)].$$\n",
        "\n",
        "Gradient can be computed as $$\\nabla_\\mathbf{w}L = \\sum_{i=1}^N(\\sigma(\\mathbf{w}^T\\mathbf{x}_i)-y_i)\\mathbf{x}_i ,~~~ \\nabla_b L = \\sum_{i=1}^N(\\sigma(\\mathbf{w}^T\\mathbf{x}_i)-y_i).$$\n",
        "\n",
        "\n",
        "We can update $\\mathbf{w},b$ at every iteration as  \n",
        "$$ \\mathbf{w} \\gets \\mathbf{w} - \\alpha \\nabla_\\mathbf{w}L, \\\\ b \\gets b - \\alpha \\nabla_b L.$$ \n",
        "\n",
        "**Note that we could also append the constant term in $\\mathbf{w}$ and append 1 to every $\\mathbf{x}_i$ accordingly, but we kept them separate in the expressions above.**\n",
        "\n",
        " "
      ]
    },
    {
      "cell_type": "markdown",
      "metadata": {
        "id": "QNa10nUiS5ru"
      },
      "source": [
        "**Gradient descent function implementation** \n",
        "\n",
        "We will use this loss function and gradient to implement a gradient descent-based method for logistic regression.\n",
        "\n",
        "Recall that training a logistic function means finding a weight vector `w` for the classification rule:\n",
        "$$P(y=1|x,w) = \\frac{1}{1+e^{-z}}, z = w[0]+w[1]\\cdot x[1] + \\cdots + w[d]\\cdot x[d]$$\n",
        "    \n",
        "    \n",
        "The function implemented should follow the following format:\n",
        "```python\n",
        "def logistic_regression_gd(X,y,learning_rate = 0.001,max_iter=1000,tol=pow(10,-5)):\n",
        "```\n",
        "Where `X` is the training data feature(s), `y` is the variable to be predicted, `learning_rate` is the learning rate used ($\\alpha$ in the slides), `max_iter` defines the maximum number of iterations that gradient descent is allowed to run, and `tol` is defining the tolerance for convergence (which we'll discuss next).\n",
        "\n",
        "The return values for the above function should be (at the least):\n",
        "\n",
        "1. `w` which are the regression parameters, \n",
        "\n",
        "2. `all_cost` which is an array where each position contains the value of the objective function $L(\\mathbf{w})$ for a given iteration, \n",
        "\n",
        "3. `iters` which counts how many iterations did the algorithm need in order to converge to a solution.\n",
        "\n",
        "Gradient descent is an iterative algorithm; it keeps updating the variables until a convergence criterion is met. In our case, our convergence criterion is whichever of the following two criteria happens first:\n",
        "\n",
        "- The maximum number of iterations is met\n",
        "- The relative improvement in the cost is not greater than the tolerance we have specified. For this criterion, you may use the following snippet into your code:\n",
        "```python\n",
        "np.absolute(all_cost[it] - all_cost[it-1])/all_cost[it-1] <= tol\n",
        "```"
      ]
    },
    {
      "cell_type": "code",
      "execution_count": 27,
      "metadata": {
        "id": "SRDxzsZk8ck_"
      },
      "outputs": [],
      "source": [
        "\n",
        "# TODO \n",
        "# Your code for logistic regression via gradient descent goes here \n",
        "\n",
        "import math\n",
        "\n",
        "def sigmoid(z):\n",
        "    return 1 / (1 + np.exp(-z))\n",
        "\n",
        "def compute_cost_2(X, w, y, b):\n",
        "    m = len(y)\n",
        "    \n",
        "    # Calculate the scores for each example\n",
        "    s = sigmoid(X @ w + b)\n",
        "    \n",
        "    # Calculate the logistic loss (negative log-likelihood)\n",
        "    loss = -1/m * np.sum(y * np.log(s) + (1-y) * np.log(1-s))\n",
        "    \n",
        "    return loss\n",
        "\n",
        "def logistic_regression_gd(X,y,learning_rate = 0.00001,max_iter=1000,tol=pow(10,-5)):\n",
        "    # your code goes here\n",
        "    w = np.zeros(X[0].shape[0])\n",
        "    b = 0\n",
        "    all_cost = []\n",
        "    ite = 0\n",
        "\n",
        "    for itr in range(max_iter):\n",
        "      \n",
        "      w_del = np.zeros(X[0].shape[0])\n",
        "      b_del = 0\n",
        "      \n",
        "      #Calculating the gradient\n",
        "      for x_val, y_val in zip(X,y):\n",
        "        s_params = np.dot(w.T,x_val) +b\n",
        "        gradient_b = sigmoid(s_params) - y_val\n",
        "        gradient_w = (sigmoid(s_params) - y_val) * x_val\n",
        "        w_del = w_del + gradient_w\n",
        "        b_del = b_del + gradient_b\n",
        "\n",
        "      w = w - learning_rate * w_del\n",
        "      b = b - learning_rate * b_del\n",
        "      cost = compute_cost_2(X,w,y,b)\n",
        "      all_cost.append(cost)\n",
        "      ite = itr + 1\n",
        "\n",
        "\n",
        "    return w, b, all_cost, ite\n"
      ]
    },
    {
      "cell_type": "markdown",
      "metadata": {
        "id": "08r6_M-98clK"
      },
      "source": [
        "### **Convergence plots and test accuracy [4 points]**\n",
        "\n",
        "After implementing gradient descent for logistic regression, we would like to test that indeed our algorithm converges to a solution. In order see this, we are going to look at the value of the objective/loss function $L(\\mathbf{w})$ as a function of the number of iterations, and ideally, what we would like to see is $L(\\mathbf{w})$ drops as we run more iterations, and eventually it stabilizes. \n",
        "\n",
        "The learning rate plays a big role in how fast our algorithm converges: a larger learning rate means that the algorithm is making faster strides to the solution, whereas a smaller learning rate implies slower steps. In this question we are going to test two different values for the learning rate:\n",
        "- 0.001\n",
        "- 0.00001\n",
        "\n",
        "while keeping the default values for the max number of iterations and the tolerance.\n",
        "\n",
        "\n",
        "- Plot the two convergence plots (cost vs. iterations)\n",
        "- Calculate the accuracy of classifier on the test data `Xts` \n",
        "- What do you observe? \n"
      ]
    },
    {
      "cell_type": "markdown",
      "metadata": {
        "id": "2XWJPz_uU1zT"
      },
      "source": [
        "**Calculate accuracy of your classifier on test data**\n",
        "\n",
        "To calculate the accuracy of our classifier on the test data, we can create a predict method. \n",
        "\n",
        "Implement a function `predict(X,w)` that provides you label 1 if $\\mathbf{w}^T\\mathbf{x} + b > 0$ and 0 otherwise.  "
      ]
    },
    {
      "cell_type": "code",
      "execution_count": 28,
      "metadata": {
        "id": "uFyHcnVFVD4r"
      },
      "outputs": [],
      "source": [
        "# TODO \n",
        "# Predict on test samples and measure accuracy\n",
        "def predict(X,w, b):\n",
        "  # your code goes here \n",
        "  predicted_vals = []\n",
        "\n",
        "  for i in X:\n",
        "    label_gen = w.T@i +b\n",
        "    predicted_vals.append(label_gen)\n",
        "  \n",
        "  yhat=[]\n",
        "  for i in predicted_vals:\n",
        "    if(i > 0):\n",
        "      yhat.append(1)\n",
        "    else:\n",
        "      yhat.append(0)\n",
        "  return yhat"
      ]
    },
    {
      "cell_type": "code",
      "source": [
        "# TODO \n",
        "# test gradient descent with step size 0.001\n",
        "# test gradient descent with step size 0.00001\n",
        " \n",
        "(w_1, b_1, all_cost_1,iters) = logistic_regression_gd(Xtr,ytr,learning_rate = 0.001,max_iter = 1000, tol=pow(10,-6))\n",
        "(w_2, b_2, all_cost_2,iters2) = logistic_regression_gd(Xtr,ytr,learning_rate = 0.00001,max_iter = 1000, tol=pow(10,-6))\n",
        "\n",
        "plt.figure(figsize = [10,10])\n",
        "\n",
        "plt.semilogy(all_cost_1[0:iters], label = \"Step Size = 0.001\")\n",
        "plt.semilogy(all_cost_2[0:iters2], label = \"Step Size = 0.00001\")    \n",
        "\n",
        "plt.grid()\n",
        "plt.xlabel('Iteration')\n",
        "plt.ylabel('Training loss') \n",
        "plt.legend()\n",
        "\n",
        "yhat_1 = predict(Xts,w_1,b_1)\n",
        "acc_1 = np.mean(yhat_1 == yts) * 100\n",
        "print(\"For Learning_rate 0.001 Test accuracy = %f\" % acc_1, \"%\")\n",
        "\n",
        "yhat_2 = predict(Xts,w_2,b_2)\n",
        "acc_2 = np.mean(yhat_2 == yts) * 100\n",
        "print(\"For Learning_rate 0.00001 Test accuracy = %f\" % acc_2, \"%\")\n",
        "\n",
        "# complete the rest "
      ],
      "metadata": {
        "colab": {
          "base_uri": "https://localhost:8080/",
          "height": 641
        },
        "id": "_B6vbeUlDFDb",
        "outputId": "f9ea96cb-4205-46ae-e19c-599aff28e49a"
      },
      "execution_count": 29,
      "outputs": [
        {
          "output_type": "stream",
          "name": "stdout",
          "text": [
            "For Learning_rate 0.001 Test accuracy = 94.634146 %\n",
            "For Learning_rate 0.00001 Test accuracy = 92.682927 %\n"
          ]
        },
        {
          "output_type": "display_data",
          "data": {
            "text/plain": [
              "<Figure size 720x720 with 1 Axes>"
            ],
            "image/png": "[encoded data removed]"
          },
          "metadata": {
            "needs_background": "light"
          }
        }
      ]
    },
    {
      "cell_type": "markdown",
      "metadata": {
        "id": "Zu5HpI_-8clL"
      },
      "source": [
        "Observations: \n",
        "\n",
        "1. After a certain number of iterations the change in loss becomes almost negligible.\n",
        "1. We can see from the convergence graphs that for both learning rates, the value of the objective function drops as the number of iterations rises. Yet as we can see, convergence occurs significantly more quickly at learning rates of 0.001 than for 0.00001."
      ]
    },
    {
      "cell_type": "code",
      "source": [],
      "metadata": {
        "id": "u3STSHw_H-G5"
      },
      "execution_count": 29,
      "outputs": []
    }
  ],
  "metadata": {
    "colab": {
      "provenance": [],
      "include_colab_link": true
    },
    "kernelspec": {
      "display_name": "Python 3 (ipykernel)",
      "language": "python",
      "name": "python3"
    },
    "language_info": {
      "codemirror_mode": {
        "name": "ipython",
        "version": 3
      },
      "file_extension": ".py",
      "mimetype": "text/x-python",
      "name": "python",
      "nbconvert_exporter": "python",
      "pygments_lexer": "ipython3",
      "version": "3.8.16"
    }
  },
  "nbformat": 4,
  "nbformat_minor": 0
}