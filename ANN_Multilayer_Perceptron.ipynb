{
  "nbformat": 4,
  "nbformat_minor": 0,
  "metadata": {
    "colab": {
      "provenance": [],
      "include_colab_link": true
    },
    "kernelspec": {
      "name": "python3",
      "display_name": "Python 3"
    },
    "language_info": {
      "name": "python"
    }
  },
  "cells": [
    {
      "cell_type": "markdown",
      "metadata": {
        "id": "view-in-github",
        "colab_type": "text"
      },
      "source": [
        "<a href=\"https://colab.research.google.com/github/sshar180/Machine-Learning-/blob/main/ANN_Multilayer_Perceptron.ipynb\" target=\"_parent\"><img src=\"https://colab.research.google.com/assets/colab-badge.svg\" alt=\"Open In Colab\"/></a>"
      ]
    },
    {
      "cell_type": "markdown",
      "metadata": {
        "id": "hsywQWEI8pzj"
      },
      "source": [
        "# Overview \n",
        "In this assignment you will implement a two-layer neural network. You will implement the loss functions, gradients, optimizers to train the network and test its performance on MNIST dataset. \n",
        "\n",
        "For this assignment we will use the functionality of Pandas (https://pandas.pydata.org/), Matplotlib (https://matplotlib.org/), and Numpy (http://www.numpy.org/). \n",
        "\n",
        "If you are asked to **implement** a particular functionality, you should **not** use an existing implementation from the libraries above (or some other library that you may find). When in doubt, please ask. \n",
        "\n",
        "Before you start, make sure you have installed all those packages in your local Jupyter instance\n",
        "\n",
        "## Read *all* cells carefully and answer all parts (both text and missing code)\n",
        "\n",
        "You will complete all the code marked `TODO` and answer descriptive/derivation questions \n",
        "\n"
      ]
    },
    {
      "cell_type": "code",
      "metadata": {
        "id": "3d6urIY6Ci2D"
      },
      "source": [
        "import numpy as np\n",
        "import matplotlib.pyplot as plt\n",
        "\n",
        "# make sure you import here everything else you may need"
      ],
      "execution_count": null,
      "outputs": []
    },
    {
      "cell_type": "markdown",
      "metadata": {
        "id": "9vBsJizSAN5C"
      },
      "source": [
        "### Load MNIST Dataset \n",
        "\n",
        "For this assignment, we will use [MNIST](https://en.wikipedia.org/wiki/MNIST_database) handwritten digits data set. The dataset consists 10 handwritten digits (0,1,...,9). It is a widely used dataset to demonstrate simple image classification problem.\n",
        "\n",
        "MNIST dataset is publicly available from different sources. We will be using MNIST from Keras package. If you do not have Keras installed, you can find the installation guide [here](https://www.tutorialspoint.com/keras/keras_installation.htm). \n",
        "\n",
        "In short, you need to run ```conda install -c anaconda keras``` or ```pip install keras```\n",
        "\n",
        "The training data consists of 60000 images of size $28 \\times 28$ pixels; the test data consists of 10000 images."
      ]
    },
    {
      "cell_type": "code",
      "metadata": {
        "id": "Jdo3YbSzAN5D",
        "colab": {
          "base_uri": "https://localhost:8080/",
          "height": 214
        },
        "outputId": "699b02aa-bbee-42bd-def4-a2e1b56b9330"
      },
      "source": [
        "from keras.datasets import mnist\n",
        "(x_train, y_train), (x_test, y_test) = mnist.load_data()\n",
        "\n",
        "print('Training data shape:',x_train.shape)\n",
        "print('Test data shape:',x_test.shape)\n",
        "\n",
        "n_img=10\n",
        "plt.figure(figsize=(n_img*2,2))\n",
        "plt.gray()\n",
        "for i in range(n_img):\n",
        "    plt.subplot(1,n_img,i+1)\n",
        "    plt.imshow(x_train[i])\n",
        "plt.show()"
      ],
      "execution_count": null,
      "outputs": [
        {
          "output_type": "stream",
          "name": "stdout",
          "text": [
            "Downloading data from https://storage.googleapis.com/tensorflow/tf-keras-datasets/mnist.npz\n",
            "11490434/11490434 [==============================] - 0s 0us/step\n",
            "Training data shape: (60000, 28, 28)\n",
            "Test data shape: (10000, 28, 28)\n"
          ]
        },
        {
          "output_type": "display_data",
          "data": {
            "text/plain": [
              "<Figure size 1440x144 with 10 Axes>"
            ],
            "image/png": "[encoded data removed]"
          },
          "metadata": {
            "needs_background": "light"
          }
        }
      ]
    },
    {
      "cell_type": "code",
      "source": [
        " plt.imshow(x_train[4])"
      ],
      "metadata": {
        "colab": {
          "base_uri": "https://localhost:8080/",
          "height": 282
        },
        "id": "TNOgbF1-6haE",
        "outputId": "dfb14d3b-f0ba-4659-d0e6-0c5dff62840f"
      },
      "execution_count": null,
      "outputs": [
        {
          "output_type": "execute_result",
          "data": {
            "text/plain": [
              "<matplotlib.image.AxesImage at 0x7f67076290d0>"
            ]
          },
          "metadata": {},
          "execution_count": 3
        },
        {
          "output_type": "display_data",
          "data": {
            "text/plain": [
              "<Figure size 432x288 with 1 Axes>"
            ],
            "image/png": "[encoded data removed]"
          },
          "metadata": {
            "needs_background": "light"
          }
        }
      ]
    },
    {
      "cell_type": "code",
      "source": [
        "y_train[4]"
      ],
      "metadata": {
        "colab": {
          "base_uri": "https://localhost:8080/"
        },
        "id": "cv-Lawk-6if5",
        "outputId": "d676b7b9-9bfe-4397-97d3-9109acf9d1fe"
      },
      "execution_count": null,
      "outputs": [
        {
          "output_type": "execute_result",
          "data": {
            "text/plain": [
              "9"
            ]
          },
          "metadata": {},
          "execution_count": 4
        }
      ]
    },
    {
      "cell_type": "markdown",
      "metadata": {
        "id": "Uw4N4norAN5D"
      },
      "source": [
        "We will be vectorizing the training and test images. So, the size of each vector will be 784."
      ]
    },
    {
      "cell_type": "code",
      "metadata": {
        "id": "VOIMLKYtAN5E",
        "colab": {
          "base_uri": "https://localhost:8080/"
        },
        "outputId": "d78d0de9-2bdb-4967-9406-c0607f31a461"
      },
      "source": [
        "x_train=x_train.reshape(x_train.shape[0],-1)\n",
        "x_test=x_test.reshape(x_test.shape[0],-1)\n",
        "\n",
        "print('Training data shape after reshaping:',x_train.shape)\n",
        "print('Test data shape after reshaping::',x_test.shape)"
      ],
      "execution_count": null,
      "outputs": [
        {
          "output_type": "stream",
          "name": "stdout",
          "text": [
            "Training data shape after reshaping: (60000, 784)\n",
            "Test data shape after reshaping:: (10000, 784)\n"
          ]
        }
      ]
    },
    {
      "cell_type": "code",
      "source": [
        "p = x_train.reshape(x_train.shape[0],28,28)\n",
        "plt.imshow(p[4])"
      ],
      "metadata": {
        "colab": {
          "base_uri": "https://localhost:8080/",
          "height": 282
        },
        "id": "_U6fZkla-auE",
        "outputId": "43cc9c14-617f-45c0-f2c2-05c417df2d13"
      },
      "execution_count": null,
      "outputs": [
        {
          "output_type": "execute_result",
          "data": {
            "text/plain": [
              "<matplotlib.image.AxesImage at 0x7f670753b1f0>"
            ]
          },
          "metadata": {},
          "execution_count": 6
        },
        {
          "output_type": "display_data",
          "data": {
            "text/plain": [
              "<Figure size 432x288 with 1 Axes>"
            ],
            "image/png": "[encoded data removed]"
          },
          "metadata": {
            "needs_background": "light"
          }
        }
      ]
    },
    {
      "cell_type": "code",
      "source": [],
      "metadata": {
        "id": "PpnWo2lq-q-r"
      },
      "execution_count": null,
      "outputs": []
    },
    {
      "cell_type": "markdown",
      "metadata": {
        "id": "iHVQmrbIAN4-"
      },
      "source": [
        "## Question 1: Binary classification using neural network [45 pts]\n",
        "\n",
        "We will start with classification of images for two different digits using a two-layer network with a cross entropy loss. \n",
        "\n",
        "In the next question, we will extend the same architecture to multi-class classification. \n",
        "\n",
        "Pick any two digits out of ten for our classification (say 5 and 8), which we will assign label \"0\" or \"1\". \n",
        "\n",
        "Pick same number of images from each class for training and create arrays for input and output (say 1000). \n",
        "\n",
        "```\n",
        "# train_x -- N x 784 array of training input\n",
        "# train_y -- N x 1 array of binary labels \n",
        "```  \n",
        "\n",
        "If you use 1000 images from each class N = 2000. You can increase the number of training samples if you like. It is just a suggestion. \n",
        "\n",
        "\n",
        "We also need to transpose the dimension of the data so that their size becomes $784\\times N$. It will be helpful to feed it to our model based on our notations.\n"
      ]
    },
    {
      "cell_type": "code",
      "metadata": {
        "id": "fir2-wZWAN5E",
        "colab": {
          "base_uri": "https://localhost:8080/"
        },
        "outputId": "8be78009-f95c-42d8-cea7-c6facd8917fc"
      },
      "source": [
        "def extract_binary_classification_dataset(x, y, label1, label2, num_samples):\n",
        "    \"\"\"Make a subset dataset from MNIST, containing only 2 classes for binary classification task \n",
        "    Args:\n",
        "        x (numpy.ndarray): data, can be x_train or x_test\n",
        "        y (numpy.ndarray): labels of data, can be y_train or y_test\n",
        "        label1 (int): the first class you pick, e.g. 5\n",
        "        label2 (int): the second class you pick, e.g. 8\n",
        "        num_samples (int): the number of images you select for each class, e.g. 1000\n",
        "    Returns:\n",
        "        x_ (numpy.ndarray): the data for 2 picked classes\n",
        "        y_ (numpy.ndarray): the corresponding labels for 2 picked classes\n",
        "    \"\"\"\n",
        "    # for class 1\n",
        "    x1 = x[y == label1]\n",
        "    x1 = x1[:num_samples]\n",
        "    y1 = np.zeros(len(x1))\n",
        "\n",
        "    # for class 2\n",
        "    x2 = x[y == label2]\n",
        "    x2 = x2[:num_samples]\n",
        "    y2 = np.ones(len(x2))\n",
        "\n",
        "    # combine 2 classes\n",
        "    x_ = np.concatenate((x1,x2),axis=0)\n",
        "    y_ = np.concatenate((y1,y2),axis=0)\n",
        "    return x_, y_\n",
        "\n",
        "\n",
        "# Pick your own digits\n",
        "label1 = 5\n",
        "label2 = 8\n",
        "num_samples = 1000\n",
        "\n",
        "# Train & test data\n",
        "train_x, train_y = extract_binary_classification_dataset(x_train, y_train, label1, label2, num_samples)\n",
        "test_x, test_y = extract_binary_classification_dataset(x_test, y_test, label1, label2, num_samples)\n",
        "\n",
        "# reshape data \n",
        "train_x = train_x.T\n",
        "test_x = test_x.T\n",
        "print(\"Training data shape:\", train_x.shape)\n",
        "print(\"Test data shape:\", test_x.shape)"
      ],
      "execution_count": null,
      "outputs": [
        {
          "output_type": "stream",
          "name": "stdout",
          "text": [
            "Training data shape: (784, 2000)\n",
            "Test data shape: (784, 1866)\n"
          ]
        }
      ]
    },
    {
      "cell_type": "code",
      "source": [
        "vk = train_x.T"
      ],
      "metadata": {
        "id": "DVlQImjzAD0h"
      },
      "execution_count": null,
      "outputs": []
    },
    {
      "cell_type": "code",
      "source": [
        "train_y.shape"
      ],
      "metadata": {
        "colab": {
          "base_uri": "https://localhost:8080/"
        },
        "id": "xWtFwd1KBCdH",
        "outputId": "91d8d35c-50a3-4dde-96a8-97d442610e4d"
      },
      "execution_count": null,
      "outputs": [
        {
          "output_type": "execute_result",
          "data": {
            "text/plain": [
              "(2000,)"
            ]
          },
          "metadata": {},
          "execution_count": 9
        }
      ]
    },
    {
      "cell_type": "code",
      "source": [
        "\n",
        "# plt.figure(figsize=(n_img*2,2))\n",
        "# plt.imshow(vk[7])"
      ],
      "metadata": {
        "id": "1vQdBbOV_2KY"
      },
      "execution_count": null,
      "outputs": []
    },
    {
      "cell_type": "markdown",
      "metadata": {
        "id": "HdeO0YieAN5E"
      },
      "source": [
        "### Network Architecture\n",
        "\n",
        "We will be using a two layer neural network in our experiment. The input layer will have 784 nodes, the hidden layer will have 256 nodes and the output layer will have 1 node. Each node will have $\\textit{sigmoid}$ activation function.\n",
        "\n",
        "The equations for feedforward operation will be the following:\n",
        "\n",
        "$$\\mathbf{z}^{(1)}=W^{(1)} \\mathbf{x}+ \\mathbf{b}^{(1)}\\\\\\mathbf{y}^{(1)}=\\varphi(\\mathbf{z}^{(1)})\\\\\\mathbf{z}^{(2)}=W^{(2)}  \\mathbf{y}^{(1)}+ \\mathbf{b}^{(2)} \\\\\\mathbf{y}^{(2)}=\\varphi(\\mathbf{z}^{(2)})$$\n",
        "\n",
        "where $\\mathbf{x}\\in \\mathbb{R}^{784}$ is the input layer, $\\mathbf{y}^{(1)}\\in \\mathbb{R}^{256}$ is the hidden layer, $\\mathbf{y}^{(2)} \\in \\mathbb{R}$ is the output layer, $W^{(1)}\\in \\mathbb{R}^{256\\times 784}$ is the first layer weights, $W^{(2)}\\in \\mathbb{R}^{1\\times 256}$ is the second layer weights, $\\mathbf{b}^{(1)}\\in \\mathbb{R}^{256}$ is the first layer bias, $\\mathbf{b}^{(2)}\\in \\mathbb{R}$ is the second layer bias, $\\varphi(\\cdot)$ is the activation function."
      ]
    },
    {
      "cell_type": "markdown",
      "metadata": {
        "id": "XWw3zn2_AN5F"
      },
      "source": [
        "### Network initialization [5 pts]\n",
        "\n",
        "We initialize the weights for $W^{(1)}$ and $W^{(2)}$ with random values drawn from normal distribution with zero mean and 0.01 standard deviation. We will initialize bias vectors $\\mathbf{b}^{(1)}$ and $\\mathbf{b^{(2)}}$ with zero values. \n",
        "\n",
        "We can fix the seed for random initialization for reproducibility."
      ]
    },
    {
      "cell_type": "code",
      "metadata": {
        "id": "5k52OUaoAN5F"
      },
      "source": [
        "def TwoLayerNetwork(layer_dims=[784,256,1]):\n",
        "    # Fix the seed\n",
        "    np.random.seed(3)\n",
        "\n",
        "    # TODO \n",
        "    # Your code goes here\n",
        "    input_layer =  layer_dims[0]\n",
        "    hidden_layer1= layer_dims[1]\n",
        "    output_layer = layer_dims[2]\n",
        "\n",
        "    params ={\n",
        "       'W1' : np.random.normal(0, 0.01, (hidden_layer1, input_layer)),\n",
        "       'b1' : np.zeros((hidden_layer1, 1)),\n",
        "       'W2' : np.random.normal(0, 0.01, (output_layer, hidden_layer1)),\n",
        "       'b2' : np.zeros((output_layer,1)),\n",
        "        }\n",
        "    \n",
        "    return params"
      ],
      "execution_count": null,
      "outputs": []
    },
    {
      "cell_type": "code",
      "source": [
        "val = TwoLayerNetwork()\n",
        "val['b1'].shape\n"
      ],
      "metadata": {
        "colab": {
          "base_uri": "https://localhost:8080/"
        },
        "id": "JHwqPCUMIxd8",
        "outputId": "2306fbc4-3e17-4e66-dd2f-1fa247eed564"
      },
      "execution_count": null,
      "outputs": [
        {
          "output_type": "execute_result",
          "data": {
            "text/plain": [
              "(256, 1)"
            ]
          },
          "metadata": {},
          "execution_count": 13
        }
      ]
    },
    {
      "cell_type": "markdown",
      "metadata": {
        "id": "0xLDm_wkAN5F"
      },
      "source": [
        "### Sigmoid activation function \n",
        "Now we will write the sigmoid activation function as \n",
        "\n",
        "$$ \\varphi(z) = \\frac{1}{1+e^{-z}}$$\n",
        "\n",
        "Note that derivative of __sigmoid__ is $\\varphi'(z) = \\varphi(z) (1-\\varphi(z))$. "
      ]
    },
    {
      "cell_type": "code",
      "metadata": {
        "id": "_CPxvM0UAN5F"
      },
      "source": [
        "def sigmoid(Z):\n",
        "    # Input: Z -- numpy.ndarray\n",
        "    # TODO \n",
        "    # Write your function\n",
        "    Y = 1/(1+np.exp(-Z))\n",
        "    return Y"
      ],
      "execution_count": null,
      "outputs": []
    },
    {
      "cell_type": "markdown",
      "metadata": {
        "id": "GGuGMhzeAN5G"
      },
      "source": [
        "### Cross entropy loss function [5 pts]\n",
        "We will minimize the binary cross entropy loss function. You will use the true labels and predicted labels of a batch of N samples. \n",
        "\n",
        "Binary crossentropy loss for $i^{th}$ sample can be written as \n",
        "\n",
        "$$Loss_i = -y_i \\log y^{(2)}_i- (1-y_i) \\log (1-y^{(2)}_i)$$\n",
        "\n",
        "where $y_i$ is the true label. We can find the average loss for a batch of N samples as $Loss=\\frac{1}{N}\\sum_{i=1}^{N} Loss_i$.\n",
        "\n",
        "Note that the gradient of the cross entropy loss w.r.t. the output is \n",
        "\n",
        "$$ \\nabla_{y^{(2)}} Loss_i = -\\frac{y_i}{y_i^{(2)}} + \\frac{1-y_i}{1-y_i^{(2)}} = \\frac{y_i^{(2)}-y_i}{y_i^{(2)}(1-y_i^{(2)})}.$$\n",
        "\n",
        "We can also show that $$\\delta^{(2)} = \\nabla_{\\mathbf{z}^{(2)}} Loss_i  = \\nabla_{y^{(2)}} Loss_i \\odot \\varphi'(\\mathbf{z})= y_i^{(2)}-y_i,$$ \n",
        "where $\\odot$ denotes element-wise multiplication of the arrays. "
      ]
    },
    {
      "cell_type": "code",
      "metadata": {
        "id": "l7KkfTXeAN5G"
      },
      "source": [
        "def CrossEntropyLoss(Y_true, Y2):\n",
        "    # TODO \n",
        "    # Write your code here\n",
        "    m = Y_true.shape[0]\n",
        "    loss = np.dot(Y_true,(np.log(Y2)).T) + np.dot((1-Y_true),np.log((1-Y2)).T)\n",
        "    loss = -loss/m\n",
        "    loss = float(np.squeeze(loss))\n",
        "    return loss"
      ],
      "execution_count": null,
      "outputs": []
    },
    {
      "cell_type": "markdown",
      "metadata": {
        "id": "EnFFFVP1AN5F"
      },
      "source": [
        "### Forward propagation  [5 pts]\n",
        "Next, we will write the code for the forward pass for two layer network. Each layer consists of an affine function (fully-connected layer) followed by an activation function. You wil also return the intermediate results ($\\mathbf{x}, \\mathbf{z}^{(1)}, \\mathbf{y}^{(1)}, \\mathbf{z}^{(2)}$) in addition to final output ($\\mathbf{y}^{(2)}$). You will need the intermediate outputs for the backpropagation step."
      ]
    },
    {
      "cell_type": "code",
      "metadata": {
        "id": "oBHoC1_TAN5F"
      },
      "source": [
        "def forward(X, params):\n",
        "    \n",
        "    # TODO \n",
        "    # Write your codes here\n",
        "\n",
        "    # X -- 784 x N array \n",
        "    # params -- \n",
        "      # W1 -- 256 x 784 matrix\n",
        "      # b1 -- 256 x 1 vector\n",
        "      # W2 -- 1 x 256 matrix\n",
        "      # b2 -- 1 x 1 scalar \n",
        "    # Y2 -- 1 x N output \n",
        "    # intermediate -- X, Z1, Y1, Z2 \n",
        "      # Z1 -- 256 x N matrix\n",
        "      # Y1 -- 256 x N matrix\n",
        "      # Z2 -- 1 x N array\n",
        "\n",
        "      W1 = params['W1']\n",
        "      b1 = params['b1']\n",
        "      W2 = params['W2']\n",
        "      b2 = params['b2']\n",
        "\n",
        "      Z1 = np.dot(W1,X) + b1\n",
        "      Y1 = sigmoid(Z1)\n",
        "      Z2 = np.dot(W2,Y1) + b2\n",
        "      Y2 = sigmoid(Z2)\n",
        "\n",
        "      intermediate = {\n",
        "          'X':X,\n",
        "          'Z1':Z1,\n",
        "          'Y1':Y1,\n",
        "          'Z2':Z2\n",
        "      }\n",
        "      return Y2, intermediate"
      ],
      "execution_count": null,
      "outputs": []
    },
    {
      "cell_type": "markdown",
      "metadata": {
        "id": "I4ZM2NLAAN5G"
      },
      "source": [
        "### Backpropagration step [10 pts]\n",
        "Now we will implement the backpropagation step for the two layer neural network. \n",
        "\n",
        "You will need the gradient of the Loss w.r.t. $W^{(l)},\\mathbf{b}^{(l)}$ for $l = 1,2$ for all the training samples.  \n",
        "\n",
        "\n",
        "\n",
        "We saw that we can write the gradient of Loss with respect to $W^{(l)}, \\mathbf{b}^{(l)}$ for a single sample as\n",
        "\n",
        "$$\\nabla_{W^{(l)}} Loss_i = \\delta^{(l)} \\mathbf{y}^{(l-1)T},$$  \n",
        "$$\\nabla_{\\mathbf{b}^{(l)}} Loss_i = \\delta^{(l)},$$\n",
        "\n",
        "where \n",
        "$$\\delta^{(l)} = \\nabla_{\\mathbf{z}^{(l)}} Loss_i = \\nabla_{\\mathbf{y}^{(l)}} Loss_i \\odot \\varphi'(\\mathbf{z}^{(l)}).$$ \n",
        "\n",
        "\n",
        "For the the last layer, we can compute $\\delta^{(L)}$ by plugging the value of $\\nabla_{\\mathbf{y}^{(L)}} Loss$ as described above. \n",
        "\n",
        "For the intermediate layers $l<L$, we can write \n",
        "$$\\delta^{(l)} = W^{(l+1)T}\\delta^{(l+1)} \\odot \\varphi'(\\mathbf{z}^{(l)}).$$ \n",
        "\n",
        "\n",
        "\n",
        "**Once we have the gradients $\\nabla_{W^{(l)}} Loss_i, \\nabla_{\\mathbf{b}^{(l)}} Loss_i$ for all $i$. We can compute their average to compute the gradient of the total loss function $\\frac{1}{N} \\sum_{i=1}^N Loss_i$ as**\n",
        "\n",
        "$$\\nabla_{W^{(l)}} Loss = \\frac{1}{N} \\sum_i \\nabla_{W^{(l)}} Loss_i, $$\n",
        "$$ \\nabla_{\\mathbf{b}^{(l)}} Loss = \\frac{1}{N} \\sum_i  \\nabla_{\\mathbf{b}^{(l)}} Loss_i.$$\n",
        "\n",
        "**Please refer to the slides and lectures for more details.**"
      ]
    },
    {
      "cell_type": "code",
      "metadata": {
        "id": "ODa4OXAqAN5G"
      },
      "source": [
        "def backward(Y_true, Y2, intermediate, params):\n",
        "    \n",
        "    # Inputs: \n",
        "      # Y_true -- 1 x N true labels\n",
        "      # Y2 -- 1 x N output of the last layer\n",
        "      # intermediate -- X, Z1, Y1, Z2 \n",
        "      # params -- W1, b1, W2, b2 \n",
        "    \n",
        "    # Outputs: \n",
        "      # grads -- [grad_W1, grad_b1, grad_W2, grad_b2]\n",
        "    \n",
        "    # TODO \n",
        "    # Write your codes here\n",
        "\n",
        "    W1 = params['W1']\n",
        "    W2 = params['W2']\n",
        "\n",
        "    Y1 = intermediate['Y1']\n",
        "    X = intermediate['X']\n",
        "    Z1 = intermediate['Z1']\n",
        "\n",
        "    # m = X.shape[1] # m = 2000\n",
        "    m = 1\n",
        "    dif = Y2 - Y_true\n",
        "    grad_W2 = (1/m) * np.dot(dif,Y1.T)\n",
        "    grad_b2 = (1/m) * np.sum(dif,axis=1, keepdims=True)\n",
        "\n",
        "    # dff2 = np.dot(W2.T, dif) * (1 - np.power(Y1, 2))\n",
        "    dff2 = np.dot(W2.T, dif) * (sigmoid(Z1) * (1 - sigmoid(Z1)))\n",
        "\n",
        "    grad_W1 = (1/m) * np.dot(dff2, X.T)\n",
        "    grad_b1 = (1/m) * np.sum(dff2, axis=1, keepdims=True)\n",
        "\n",
        "    grads = {\"grad_W1\": grad_W1,\n",
        "             \"grad_b1\": grad_b1,\n",
        "             \"grad_W2\": grad_W2,\n",
        "             \"grad_b2\": grad_b2}\n",
        "\n",
        "    return grads"
      ],
      "execution_count": null,
      "outputs": []
    },
    {
      "cell_type": "markdown",
      "metadata": {
        "id": "GlHu8oIaAN5G"
      },
      "source": [
        "### Optimizer [5 pts]\n",
        "We will use a standard gradient descent-based optimizer to minimize the loss function. You have already implemented gradient descent in HW2. You may have to adjust learning rate that provides you best training/validation performance. In this exercise, we are not using validation data; in practice, you should use it to tune your hyperparameters such as learning rate, network architecture etc.\n",
        "\n",
        "You can use same learning rate for all weights in this assignment. \n",
        "\n",
        "You should update $W^1, \\mathbf{b}^1, W^2, \\mathbf{b}^2$ as \n",
        "$$ W^1 \\gets W^1 - \\alpha \\nabla_{W^1} Loss $$\n",
        "$$ \\mathbf{b}^1 \\gets \\mathbf{b}^1 - \\alpha \\nabla_{\\mathbf{b}^1} Loss $$ \n",
        "$$ W^2 \\gets W^2 - \\alpha \\nabla_{W^2} Loss $$ \n",
        "$$ \\mathbf{b}^2 \\gets \\mathbf{b}^2 - \\alpha \\nabla_{\\mathbf{b}^2} Loss $$ \n",
        "$\\alpha$ is the learning rate. "
      ]
    },
    {
      "cell_type": "code",
      "metadata": {
        "id": "noqJ8U_PAN5G"
      },
      "source": [
        "def GD(params, grads, learning_rate):\n",
        "    \n",
        "    # updated params = old params - learning rate * gradient of Loss computed at old params\n",
        "    # TODO \n",
        "    # Write your codes here\n",
        "     # Retrieve each parameter from the dictionary \"params\"\n",
        "    W1 = params['W1']\n",
        "    b1 = params['b1']\n",
        "    W2 = params['W2']\n",
        "    b2 = params['b2']\n",
        "\n",
        "    # Retrieve each gradient from the dictionary \"grads\"\n",
        "    grad_W1 = grads['grad_W1']\n",
        "    grad_b1 = grads['grad_b1']\n",
        "    grad_W2 = grads['grad_W2']\n",
        "    grad_b2 = grads['grad_b2']\n",
        "\n",
        "    # Update rule for each parameter\n",
        "    W1 = W1 - learning_rate*grad_W1\n",
        "    b1 = b1 - learning_rate*grad_b1\n",
        "    W2 = W2 - learning_rate*grad_W2\n",
        "    b2 = b2 - learning_rate*grad_b2\n",
        "\n",
        "    params = {\"W1\": W1,\n",
        "                  \"b1\": b1,\n",
        "                  \"W2\": W2,\n",
        "                  \"b2\": b2}\n",
        "                        \n",
        "    return params"
      ],
      "execution_count": null,
      "outputs": []
    },
    {
      "cell_type": "markdown",
      "metadata": {
        "id": "adhSifEGAN5G"
      },
      "source": [
        "### Train the Model [5 pts]\n",
        "We will train the model using the functions we wrote above. \n",
        "\n",
        "First, we specify the number of nodes in the layers, number of epochs and learning rate. Then we initialize the network."
      ]
    },
    {
      "cell_type": "code",
      "metadata": {
        "id": "lKwAatEkAN5H"
      },
      "source": [
        "layer_dims = [train_x.shape[0],256,1]\n",
        "epochs = 100\n",
        "lr = 0.00001\n",
        "\n",
        "params = TwoLayerNetwork(layer_dims)"
      ],
      "execution_count": null,
      "outputs": []
    },
    {
      "cell_type": "markdown",
      "metadata": {
        "id": "kdi_L3xYAN5H"
      },
      "source": [
        "Then we train the network for the number of epochs specified above. In every epoch, we will do the following:\n",
        "1. Calculate the forward pass to get estimated labels.\n",
        "2. Use the estimated labels calculate loss. We will be recording loss for every epoch.\n",
        "3. Use backpropagation to calculate gradients.\n",
        "4. Use gradient descent to update the weights and biases.\n",
        "\n",
        "You should store the loss value after every epoch in an array ```loss_history```  and print the loss value after every few epochs (say 20). \n"
      ]
    },
    {
      "cell_type": "code",
      "metadata": {
        "id": "QtEPxEleAN5H",
        "colab": {
          "base_uri": "https://localhost:8080/"
        },
        "outputId": "901c9654-560d-4232-cb24-5f00c67c587e"
      },
      "source": [
        "# TODO \n",
        "# Write your codes here\n",
        "Cost_per_Epoch = []\n",
        "for i in range(0, epochs):\n",
        "         \n",
        "        # Forward propagation. Inputs: \"train_x, params\" and Outputs: \"Y2, intermediate\".\n",
        "        Y2, intermediate = forward(train_x, params)\n",
        "        \n",
        "        # Cost function. Inputs: \"train_y, Y2, parameters\". Outputs: \"cost\".\n",
        "        cost = CrossEntropyLoss(train_y, Y2[0])\n",
        "        Cost_per_Epoch.append(cost)\n",
        " \n",
        "        # Backpropagation. Inputs: \"train_y, Y2, intermediate, params\". Outputs: \"grads\".\n",
        "        grads = backward(train_y, Y2, intermediate, params)\n",
        " \n",
        "        # Gradient descent parameter update. Inputs: \"params, grads,l r\". Outputs: \"params\".\n",
        "        params = GD(params, grads, lr)\n",
        "\n",
        "        # Print the cost for every iterations\n",
        "        print(\"Cost after iteration %i: %f\" %(i, cost))\n",
        " "
      ],
      "execution_count": null,
      "outputs": [
        {
          "output_type": "stream",
          "name": "stdout",
          "text": [
            "Cost after iteration 0: 0.691340\n",
            "Cost after iteration 1: 0.672342\n",
            "Cost after iteration 2: 0.656256\n",
            "Cost after iteration 3: 0.640605\n",
            "Cost after iteration 4: 0.624871\n",
            "Cost after iteration 5: 0.609149\n",
            "Cost after iteration 6: 0.593113\n",
            "Cost after iteration 7: 0.576539\n",
            "Cost after iteration 8: 0.559499\n",
            "Cost after iteration 9: 0.542371\n",
            "Cost after iteration 10: 0.524982\n",
            "Cost after iteration 11: 0.507521\n",
            "Cost after iteration 12: 0.490128\n",
            "Cost after iteration 13: 0.472892\n",
            "Cost after iteration 14: 0.455958\n",
            "Cost after iteration 15: 0.439394\n",
            "Cost after iteration 16: 0.423240\n",
            "Cost after iteration 17: 0.407555\n",
            "Cost after iteration 18: 0.392382\n",
            "Cost after iteration 19: 0.377890\n",
            "Cost after iteration 20: 0.364140\n",
            "Cost after iteration 21: 0.350387\n",
            "Cost after iteration 22: 0.337798\n",
            "Cost after iteration 23: 0.325879\n",
            "Cost after iteration 24: 0.314708\n",
            "Cost after iteration 25: 0.303992\n",
            "Cost after iteration 26: 0.294039\n",
            "Cost after iteration 27: 0.284477\n",
            "Cost after iteration 28: 0.275476\n",
            "Cost after iteration 29: 0.267052\n",
            "Cost after iteration 30: 0.258965\n",
            "Cost after iteration 31: 0.251426\n",
            "Cost after iteration 32: 0.244272\n",
            "Cost after iteration 33: 0.237515\n",
            "Cost after iteration 34: 0.231097\n",
            "Cost after iteration 35: 0.225050\n",
            "Cost after iteration 36: 0.219316\n",
            "Cost after iteration 37: 0.213976\n",
            "Cost after iteration 38: 0.208768\n",
            "Cost after iteration 39: 0.203908\n",
            "Cost after iteration 40: 0.199072\n",
            "Cost after iteration 41: 0.194578\n",
            "Cost after iteration 42: 0.190143\n",
            "Cost after iteration 43: 0.186009\n",
            "Cost after iteration 44: 0.181939\n",
            "Cost after iteration 45: 0.178185\n",
            "Cost after iteration 46: 0.174539\n",
            "Cost after iteration 47: 0.171024\n",
            "Cost after iteration 48: 0.167658\n",
            "Cost after iteration 49: 0.164463\n",
            "Cost after iteration 50: 0.161365\n",
            "Cost after iteration 51: 0.158388\n",
            "Cost after iteration 52: 0.155451\n",
            "Cost after iteration 53: 0.152767\n",
            "Cost after iteration 54: 0.150055\n",
            "Cost after iteration 55: 0.147560\n",
            "Cost after iteration 56: 0.144986\n",
            "Cost after iteration 57: 0.142779\n",
            "Cost after iteration 58: 0.140430\n",
            "Cost after iteration 59: 0.138396\n",
            "Cost after iteration 60: 0.136193\n",
            "Cost after iteration 61: 0.134362\n",
            "Cost after iteration 62: 0.132305\n",
            "Cost after iteration 63: 0.130534\n",
            "Cost after iteration 64: 0.128522\n",
            "Cost after iteration 65: 0.126851\n",
            "Cost after iteration 66: 0.124917\n",
            "Cost after iteration 67: 0.123207\n",
            "Cost after iteration 68: 0.121323\n",
            "Cost after iteration 69: 0.119704\n",
            "Cost after iteration 70: 0.118014\n",
            "Cost after iteration 71: 0.116448\n",
            "Cost after iteration 72: 0.114900\n",
            "Cost after iteration 73: 0.113553\n",
            "Cost after iteration 74: 0.112118\n",
            "Cost after iteration 75: 0.110807\n",
            "Cost after iteration 76: 0.109399\n",
            "Cost after iteration 77: 0.108233\n",
            "Cost after iteration 78: 0.106883\n",
            "Cost after iteration 79: 0.105759\n",
            "Cost after iteration 80: 0.104429\n",
            "Cost after iteration 81: 0.103397\n",
            "Cost after iteration 82: 0.102070\n",
            "Cost after iteration 83: 0.101103\n",
            "Cost after iteration 84: 0.099778\n",
            "Cost after iteration 85: 0.098859\n",
            "Cost after iteration 86: 0.097574\n",
            "Cost after iteration 87: 0.096707\n",
            "Cost after iteration 88: 0.095463\n",
            "Cost after iteration 89: 0.094636\n",
            "Cost after iteration 90: 0.093443\n",
            "Cost after iteration 91: 0.092631\n",
            "Cost after iteration 92: 0.091534\n",
            "Cost after iteration 93: 0.090752\n",
            "Cost after iteration 94: 0.089751\n",
            "Cost after iteration 95: 0.089022\n",
            "Cost after iteration 96: 0.088083\n",
            "Cost after iteration 97: 0.087408\n",
            "Cost after iteration 98: 0.086537\n",
            "Cost after iteration 99: 0.085956\n"
          ]
        }
      ]
    },
    {
      "cell_type": "markdown",
      "metadata": {
        "id": "2-7VVZ6iAN5H"
      },
      "source": [
        "Now we will plot the recorded loss values vs epochs. We will observe the training loss decreasing with the epochs."
      ]
    },
    {
      "cell_type": "code",
      "metadata": {
        "id": "Uu8zTsABAN5H",
        "colab": {
          "base_uri": "https://localhost:8080/",
          "height": 279
        },
        "outputId": "d594b624-f374-4b96-b0cf-f1cde72b36b9"
      },
      "source": [
        "plt.figure()\n",
        "plt.plot(Cost_per_Epoch)\n",
        "plt.xlabel(\"Epochs\")\n",
        "plt.ylabel(\"Training Loss\")\n",
        "plt.show()"
      ],
      "execution_count": null,
      "outputs": [
        {
          "output_type": "display_data",
          "data": {
            "text/plain": [
              "<Figure size 432x288 with 1 Axes>"
            ],
            "image/png": "[encoded data removed]"
          },
          "metadata": {
            "needs_background": "light"
          }
        }
      ]
    },
    {
      "cell_type": "markdown",
      "metadata": {
        "id": "8ZlLv1NbAN5H"
      },
      "source": [
        "### Evaluation on test data [5 pts]\n",
        "\n",
        "Now we will be evaluating the accuracy we get from the trained model. We feed training data and test data to the forward model along with the trained parameters. \n",
        "\n",
        "Note that, we need to covert the output probability of the forward pass to binary labels before evaluating accuracy. Since the model provides the posterior probability $p(y = 1 | x)$ in range [0,1]. We can binarize them using 0.5 as a theshold (i.e. if $y_i^{(2)}\\geq 0.5$, $y_i^{(2)} \\gets 1$ otherwise  $y_i^{(2)} \\gets 0$)."
      ]
    },
    {
      "cell_type": "code",
      "metadata": {
        "id": "HKZ7BSZjAN5I",
        "colab": {
          "base_uri": "https://localhost:8080/"
        },
        "outputId": "c8f5269b-c511-4df4-b8fa-bc89b7da4e7e"
      },
      "source": [
        "# TODO \n",
        "\n",
        "def predict(parameters, X):\n",
        "    \"\"\"\n",
        "    Using the learned parameters, predicts a class for each example in X\n",
        "    \n",
        "    Arguments:\n",
        "    parameters -- python dictionary containing your parameters \n",
        "    X -- input data of size (n_x, m)\n",
        "    \n",
        "    Returns\n",
        "    predictions -- vector of predictions of our model (red: 0 / blue: 1)\n",
        "    \"\"\"\n",
        "    \n",
        "    # Computes probabilities using forward propagation, and classifies to 0/1 using 0.5 as the threshold.\n",
        "    A2, cache = forward(X, parameters)\n",
        "    threshold = 0.5 \n",
        "    p = (A2 > threshold)\n",
        "    \n",
        "    return p\n",
        "\n",
        "predictions_test = predict(params, test_x)\n",
        "predictions_train = predict(params, train_x)\n",
        "\n",
        "print(\"Training accuracy:\",float((np.dot(train_y,predictions_train.T) + np.dot(1-train_y,1-predictions_train.T))/float(train_y.size)*100))\n",
        "print(\"Test accuracy:\",float((np.dot(test_y,predictions_test.T) + np.dot(1-test_y,1-predictions_test.T))/float(test_y.size)*100))\n",
        "\n",
        "# cross-check Using Sklearn \n",
        "from sklearn.metrics import accuracy_score\n",
        "print(\"Training accuracy:\",accuracy_score(train_y,predictions_train[0])*100)\n",
        "print(\"Test accuracy:\",accuracy_score(test_y,predictions_test[0])*100)\n"
      ],
      "execution_count": null,
      "outputs": [
        {
          "output_type": "stream",
          "name": "stdout",
          "text": [
            "Training accuracy: 98.25\n",
            "Test accuracy: 95.12325830653805\n",
            "Training accuracy: 98.25\n",
            "Test accuracy: 95.12325830653805\n"
          ]
        }
      ]
    },
    {
      "cell_type": "markdown",
      "metadata": {
        "id": "Ba-laCd-4OkR"
      },
      "source": [
        "### Visualize some of the correct/miscalassified images [5 pts]\n",
        "\n",
        "Now we will look at some images from training and test sets that were misclassified. \n",
        "\n",
        "Training set. \n",
        "Pick 5 images from each class that are correcly and incorreclty classified. \n",
        "True/False Positive/Negatives\n",
        "\n",
        "Test set. \n",
        "Pick 5 images from each class that are correcly and incorreclty classified. \n",
        "True/False Positive/Negatives\n"
      ]
    },
    {
      "cell_type": "code",
      "metadata": {
        "id": "1O5zZTCn4N18",
        "colab": {
          "base_uri": "https://localhost:8080/",
          "height": 501
        },
        "outputId": "fb1963f5-b619-457e-e1a1-78b580b1f43f"
      },
      "source": [
        "# TODO \n",
        "# Training set\n",
        "print(\"Training set examples for true/false positive/negative\")\n",
        "Y_hat, caches = forward(train_x, params)\n",
        "\n",
        "# your code goes here...\n",
        "predict = (Y_hat > .5)*1.0\n",
        "a=predict[0]\n",
        "b=train_y\n",
        "false_prediction = np.where(np.logical_and(a ==0 ,b==1))[0]\n",
        "\n",
        "train_x.shape\n",
        "p = train_x.T\n",
        "p = p.reshape(p.shape[0],28,28)\n",
        "print(\"Training set negative examples\")\n",
        "for x in range(0,5):\n",
        "  index = false_prediction[x]\n",
        "  # plt.imshow(p[index])\n",
        "  print(\"Predicted Value\", a[index],\"Predicted Label: 5\",\"True Value\",b[index],\" True Label: 8\", \"Index\", index)\n",
        "\n",
        "n_img=5\n",
        "plt.figure(figsize=(n_img*2,2))\n",
        "plt.gray()\n",
        "for i in range(n_img):\n",
        "  index = false_prediction[i]\n",
        "  plt.subplot(1,n_img,i+1)\n",
        "  plt.imshow(p[i])\n",
        "plt.show()  \n",
        "\n",
        "# Positive Predictions\n",
        "print(\"Training set positive examples\")\n",
        "true_prediction = np.where(np.logical_and(a ==1 ,b==1))[0]\n",
        "for x in range(0,5):\n",
        "  index = true_prediction[x]\n",
        "  # plt.imshow(p[index])\n",
        "  print(\"Predicted Value\", a[index],\"Predicted Label: 5\",\"True Value\",b[index],\" True Label: 5\", \"Index\", index)\n",
        "\n",
        "n_img=5\n",
        "plt.figure(figsize=(n_img*2,2))\n",
        "plt.gray()\n",
        "for i in range(n_img):\n",
        "  index = true_prediction[i]\n",
        "  plt.subplot(1,n_img,i+1)\n",
        "  plt.imshow(p[i])\n",
        "plt.show()  \n",
        "\n",
        "\n",
        " "
      ],
      "execution_count": null,
      "outputs": [
        {
          "output_type": "stream",
          "name": "stdout",
          "text": [
            "Training set examples for true/false positive/negative\n",
            "Training set negative examples\n",
            "Predicted Value 0.0 Predicted Label: 5 True Value 1.0  True Label: 8 Index 1041\n",
            "Predicted Value 0.0 Predicted Label: 5 True Value 1.0  True Label: 8 Index 1125\n",
            "Predicted Value 0.0 Predicted Label: 5 True Value 1.0  True Label: 8 Index 1237\n",
            "Predicted Value 0.0 Predicted Label: 5 True Value 1.0  True Label: 8 Index 1242\n",
            "Predicted Value 0.0 Predicted Label: 5 True Value 1.0  True Label: 8 Index 1247\n"
          ]
        },
        {
          "output_type": "display_data",
          "data": {
            "text/plain": [
              "<Figure size 720x144 with 5 Axes>"
            ],
            "image/png": "[encoded data removed]"
          },
          "metadata": {
            "needs_background": "light"
          }
        },
        {
          "output_type": "stream",
          "name": "stdout",
          "text": [
            "Training set positive examples\n",
            "Predicted Value 1.0 Predicted Label: 5 True Value 1.0  True Label: 5 Index 1000\n",
            "Predicted Value 1.0 Predicted Label: 5 True Value 1.0  True Label: 5 Index 1001\n",
            "Predicted Value 1.0 Predicted Label: 5 True Value 1.0  True Label: 5 Index 1002\n",
            "Predicted Value 1.0 Predicted Label: 5 True Value 1.0  True Label: 5 Index 1003\n",
            "Predicted Value 1.0 Predicted Label: 5 True Value 1.0  True Label: 5 Index 1004\n"
          ]
        },
        {
          "output_type": "display_data",
          "data": {
            "text/plain": [
              "<Figure size 720x144 with 5 Axes>"
            ],
            "image/png": "[encoded data removed]"
          },
          "metadata": {
            "needs_background": "light"
          }
        }
      ]
    },
    {
      "cell_type": "code",
      "source": [
        "a=predict[0]\n",
        "b=train_y\n",
        "t = np.where(np.logical_and(a ==0 ,b==1))[0]"
      ],
      "metadata": {
        "id": "BYs_UVPL0L1S"
      },
      "execution_count": null,
      "outputs": []
    },
    {
      "cell_type": "code",
      "source": [
        "accuracy_score(train_y,predict[0])*100"
      ],
      "metadata": {
        "colab": {
          "base_uri": "https://localhost:8080/"
        },
        "id": "Mfe7XiFlofM3",
        "outputId": "dc65bc5e-912c-4871-8136-b7655e689086"
      },
      "execution_count": null,
      "outputs": [
        {
          "output_type": "execute_result",
          "data": {
            "text/plain": [
              "98.25"
            ]
          },
          "metadata": {},
          "execution_count": 25
        }
      ]
    },
    {
      "cell_type": "code",
      "source": [
        "x_train.shape"
      ],
      "metadata": {
        "colab": {
          "base_uri": "https://localhost:8080/"
        },
        "id": "xpj1h_wh_y6r",
        "outputId": "3fa1e9ae-9e66-43f9-82c2-740dcda8652d"
      },
      "execution_count": null,
      "outputs": [
        {
          "output_type": "execute_result",
          "data": {
            "text/plain": [
              "(60000, 784)"
            ]
          },
          "metadata": {},
          "execution_count": 26
        }
      ]
    },
    {
      "cell_type": "code",
      "source": [
        "train_x.shape\n",
        "p = train_x.T"
      ],
      "metadata": {
        "id": "M-zYy3yLBjEG"
      },
      "execution_count": null,
      "outputs": []
    },
    {
      "cell_type": "code",
      "source": [
        "train_y[1041]\n",
        "predict[0][1041]\n",
        "p = p.reshape(p.shape[0],28,28)\n",
        "plt.imshow(p[3])"
      ],
      "metadata": {
        "colab": {
          "base_uri": "https://localhost:8080/",
          "height": 282
        },
        "id": "YxDtvqtB9JNg",
        "outputId": "a4cf311f-f5c1-4058-f37c-e7a8d856bb41"
      },
      "execution_count": null,
      "outputs": [
        {
          "output_type": "execute_result",
          "data": {
            "text/plain": [
              "<matplotlib.image.AxesImage at 0x7f6704ee02e0>"
            ]
          },
          "metadata": {},
          "execution_count": 28
        },
        {
          "output_type": "display_data",
          "data": {
            "text/plain": [
              "<Figure size 432x288 with 1 Axes>"
            ],
            "image/png": "[encoded data removed]"
          },
          "metadata": {
            "needs_background": "light"
          }
        }
      ]
    },
    {
      "cell_type": "code",
      "source": [
        "train_x.shape"
      ],
      "metadata": {
        "colab": {
          "base_uri": "https://localhost:8080/"
        },
        "id": "wh1OZ4CUC5lX",
        "outputId": "06e7f8ce-0642-4743-dcf7-02e2c76e68ef"
      },
      "execution_count": null,
      "outputs": [
        {
          "output_type": "execute_result",
          "data": {
            "text/plain": [
              "(784, 2000)"
            ]
          },
          "metadata": {},
          "execution_count": 29
        }
      ]
    },
    {
      "cell_type": "code",
      "source": [
        "t"
      ],
      "metadata": {
        "colab": {
          "base_uri": "https://localhost:8080/"
        },
        "id": "sYr5U4Id5LU5",
        "outputId": "1f769988-c1be-4404-d3d3-6f24cad41df5"
      },
      "execution_count": null,
      "outputs": [
        {
          "output_type": "execute_result",
          "data": {
            "text/plain": [
              "array([1041, 1125, 1237, 1242, 1247, 1250, 1251, 1256, 1293, 1436, 1477,\n",
              "       1478, 1517, 1556, 1607, 1630, 1668, 1730, 1840, 1870, 1914, 1916,\n",
              "       1939])"
            ]
          },
          "metadata": {},
          "execution_count": 30
        }
      ]
    },
    {
      "cell_type": "code",
      "metadata": {
        "id": "jym9VlP-_0rd",
        "colab": {
          "base_uri": "https://localhost:8080/",
          "height": 501
        },
        "outputId": "a903ed14-9944-49b0-a89d-b5c0f4efebe2"
      },
      "source": [
        "# Test set\n",
        "print(\"Test set examples for true/false positive/negative\")\n",
        "Y_hat, caches = forward(test_x, params)\n",
        "\n",
        "# your code goes here...\n",
        "predict = (Y_hat > .5)*1.0\n",
        "a=predict[0]\n",
        "b=test_y\n",
        "false_prediction = np.where(np.logical_and(a ==0 ,b==1))[0]\n",
        "\n",
        "# train_x.shape\n",
        "p = test_x.T\n",
        "p = p.reshape(p.shape[0],28,28)\n",
        "print(\"Training set negative examples\")\n",
        "for x in range(0,5):\n",
        "  index = false_prediction[x]\n",
        "  # plt.imshow(p[index])\n",
        "  print(\"Predicted Value\", a[index],\"Predicted Label: 5\",\"True Value\",b[index],\" True Label: 8\", \"Index\", index)\n",
        "\n",
        "n_img=5\n",
        "plt.figure(figsize=(n_img*2,2))\n",
        "plt.gray()\n",
        "for i in range(n_img):\n",
        "  index = false_prediction[i]\n",
        "  plt.subplot(1,n_img,i+1)\n",
        "  plt.imshow(p[i])\n",
        "plt.show()  \n",
        "\n",
        "# Positive Predictions\n",
        "print(\"Training set positive examples\")\n",
        "true_prediction = np.where(np.logical_and(a ==1 ,b==1))[0]\n",
        "for x in range(0,5):\n",
        "  index = true_prediction[x]\n",
        "  # plt.imshow(p[index])\n",
        "  print(\"Predicted Value\", a[index],\"Predicted Label: 5\",\"True Value\",b[index],\" True Label: 5\", \"Index\", index)\n",
        "\n",
        "n_img=5\n",
        "plt.figure(figsize=(n_img*2,2))\n",
        "plt.gray()\n",
        "for i in range(n_img):\n",
        "  index = true_prediction[i]\n",
        "  plt.subplot(1,n_img,i+1)\n",
        "  plt.imshow(p[i])\n",
        "plt.show()  \n",
        " "
      ],
      "execution_count": null,
      "outputs": [
        {
          "output_type": "stream",
          "name": "stdout",
          "text": [
            "Test set examples for true/false positive/negative\n",
            "Training set negative examples\n",
            "Predicted Value 0.0 Predicted Label: 5 True Value 1.0  True Label: 8 Index 936\n",
            "Predicted Value 0.0 Predicted Label: 5 True Value 1.0  True Label: 8 Index 953\n",
            "Predicted Value 0.0 Predicted Label: 5 True Value 1.0  True Label: 8 Index 959\n",
            "Predicted Value 0.0 Predicted Label: 5 True Value 1.0  True Label: 8 Index 962\n",
            "Predicted Value 0.0 Predicted Label: 5 True Value 1.0  True Label: 8 Index 965\n"
          ]
        },
        {
          "output_type": "display_data",
          "data": {
            "text/plain": [
              "<Figure size 720x144 with 5 Axes>"
            ],
            "image/png": "[encoded data removed]"
          },
          "metadata": {
            "needs_background": "light"
          }
        },
        {
          "output_type": "stream",
          "name": "stdout",
          "text": [
            "Training set positive examples\n",
            "Predicted Value 1.0 Predicted Label: 5 True Value 1.0  True Label: 5 Index 892\n",
            "Predicted Value 1.0 Predicted Label: 5 True Value 1.0  True Label: 5 Index 893\n",
            "Predicted Value 1.0 Predicted Label: 5 True Value 1.0  True Label: 5 Index 894\n",
            "Predicted Value 1.0 Predicted Label: 5 True Value 1.0  True Label: 5 Index 895\n",
            "Predicted Value 1.0 Predicted Label: 5 True Value 1.0  True Label: 5 Index 896\n"
          ]
        },
        {
          "output_type": "display_data",
          "data": {
            "text/plain": [
              "<Figure size 720x144 with 5 Axes>"
            ],
            "image/png": "[encoded data removed]"
          },
          "metadata": {
            "needs_background": "light"
          }
        }
      ]
    },
    {
      "cell_type": "markdown",
      "metadata": {
        "id": "XBEj5ST72SG6"
      },
      "source": [
        "\n",
        "\n",
        "---\n",
        "\n"
      ]
    },
    {
      "cell_type": "markdown",
      "metadata": {
        "id": "zoli2hpzp2gy"
      },
      "source": [
        "## Question 2. Multiclass classification [35 pts] \n",
        "\n",
        "Now we will build a classifier to separate all the digits. For this purpose, we will only change the last layer and the loss. \n",
        "\n",
        "\n",
        "Instead of using a single output, we will provide 10 outputs; and instead of using a binary cross entropy loss, we will use mutli-class cross entropy loss. \n",
        "\n",
        "In multinomal logistic regression (aka softmax regression), we define the posterior probability of label $y \\in \\{0,\\ldots, K-1\\}$ as \n",
        "\n",
        "\n",
        "$$p(y = c | \\mathbf{x}) = \\frac{\\exp(\\mathbf{w}_c^T\\mathbf{x})}{\\sum_{k=1}^K \\exp(\\mathbf{w}_k^T\\mathbf{x})} = \\mathbf{p}_c.$$ \n",
        "\n",
        "In other words, last layer of the network provides a probability vector $\\mathbf{p} \\in \\mathbb{R}^K$, such that each $0 \\le \\mathbf{p}_c \\le 1$ and $\\sum_c \\mathbf{p}_c = 1$. "
      ]
    },
    {
      "cell_type": "markdown",
      "metadata": {
        "id": "vxGPKVAUBO-w"
      },
      "source": [
        "### Softmax function [5 pts]\n",
        "\n",
        "Let us first define the softmax function, which is a multinomal extension of the sigmoid function that maps a vector of length $K$ to a probability vector. \n",
        "\n",
        "We can define ```softmax``` function on a vector $\\mathbf{z} \\in \\mathbb{R}^K$ as $\\mathbf{p} = \\text{softmax}(\\mathbf{z})$: \n",
        "\n",
        "$$\\mathbf{p}_c(\\mathbf{z}) = \\frac{\\exp(\\mathbf{z}_c)}{\\sum_{k=1}^K \\exp(\\mathbf{z}_k)}$$\n",
        "\n"
      ]
    },
    {
      "cell_type": "code",
      "metadata": {
        "id": "wezeelLcBSCo"
      },
      "source": [
        "def softmax(Z):\n",
        "    # Z -- K x N numpy.ndarray, K is the number of classes, N is the number of samples\n",
        "    # TODO  \n",
        "    # your code goes here... \n",
        "\n",
        "      exp =   np.exp(Z)\n",
        "      probs = exp/np.sum(exp,axis=0,keepdims=True)\n",
        "      return probs"
      ],
      "execution_count": null,
      "outputs": []
    },
    {
      "cell_type": "markdown",
      "metadata": {
        "id": "9J53N9_wWMUf"
      },
      "source": [
        "We have to note that the numerical range of floating point numbers in numpy is limited. For `float64` the upper bound is $10^{308}$. For exponential, its not difficult to overshoot that limit, in which case python returns `nan`.\n",
        "\n",
        "To make our softmax function numerically stable, we simply normalize the values in the vector, by multiplying the numerator and denominator with a constant `C` as\n",
        "\n",
        "\\begin{align*}\n",
        "\\mathbf{p}_c  &= \\frac{\\exp(\\mathbf{z}_c)}{\\sum_{k=1}^K \\exp(\\mathbf{z}_k)} \\\\\n",
        "& = \\frac{C\\exp(\\mathbf{z}_c)}{C\\sum_{k=1}^K \\exp(\\mathbf{z}_k)}\\\\\n",
        "& = \\frac{\\exp(\\mathbf{z}_c + \\log C)}{\\sum_{k=1}^K \\exp(\\mathbf{z}_k + \\log C)}.\n",
        "\\end{align*}\n",
        "\n",
        "We can choose an arbitrary value for `log(C)` term, but generally `log(C) = −max(z)` is chosen\n"
      ]
    },
    {
      "cell_type": "code",
      "metadata": {
        "id": "JzmyZdoqXO_v"
      },
      "source": [
        "def stable_softmax(Z): \n",
        "    # Z -- K x N numpy.ndarray, K is the number of classes, N is the number of samples\n",
        "    # TODO (this is optional)\n",
        "    # your code goes here  \n",
        "    probs = (np.exp(Z - np.max(Z)) / np.exp(Z - np.max(Z)).sum())\n",
        "    return probs"
      ],
      "execution_count": null,
      "outputs": []
    },
    {
      "cell_type": "markdown",
      "metadata": {
        "id": "tSGHPdySbpbj"
      },
      "source": [
        "### Derivative of the softmax function\n",
        "\n",
        "We can show that the derivative of the __softmax__ function with respect to any input can be written as \n",
        "\n",
        "$$ \\frac{\\partial \\mathbf{p}_i}{\\partial \\mathbf{z}_j} = \\begin{cases} \\mathbf{p}_i(1-\\mathbf{p}_j) & i = j \\\\ \\mathbf{p}_i (-\\mathbf{p}_j) & i \\ne j. \\end{cases}$$\n",
        "\n",
        "[More info here](https://deepnotes.io/softmax-crossentropy)\n"
      ]
    },
    {
      "cell_type": "markdown",
      "metadata": {
        "id": "C0qcy_JAArEo"
      },
      "source": [
        "### Multiclass cross entropy loss function [5 pts]\n",
        "\n",
        "We will minimize the cross entropy loss. You will use the true labels and predicted labels of a batch of N samples. \n",
        "\n",
        "The multi-class cross entropy loss for $i^{th}$ sample can be written as \n",
        "$$Loss_i = -\\sum_c \\mathbf{1}(y_i = c) \\log \\mathbf{p}_c $$\n",
        "where $y_i$ is the true label and \n",
        "\n",
        "$$\\mathbf{1}(y_i = c) = \\begin{cases} 1 & y_i =c \\\\ 0 & \\text{otherwise} \\end{cases}$$ \n",
        "is an indicator function. \n",
        "\n",
        "We can find the average loss for a batch of N samples as $Loss=\\frac{1}{N}\\sum_{i=1}^{N} Loss_i$. \n"
      ]
    },
    {
      "cell_type": "code",
      "metadata": {
        "id": "tebVzE2SAoTB"
      },
      "source": [
        "def MultiClassCrossEntropyLoss(Y_true, probs):\n",
        "  \n",
        "  # TODO \n",
        "  # Write your code here\n",
        "\n",
        "  # probs -- K x N array\n",
        "  # Y_true -- 1 x N array \n",
        "  # loss --  sum Loss_i over N samples \n",
        "  m= Y_true.shape[1]\n",
        "  loss = -(1/m) * np.sum(Y_true * np.log(probs))\n",
        "\n",
        "  return loss"
      ],
      "execution_count": null,
      "outputs": []
    },
    {
      "cell_type": "markdown",
      "metadata": {
        "id": "tbRPrVLpjFIo"
      },
      "source": [
        "### Derivative of the cross entropy loss \n",
        "\n",
        "Let us assume that $\\mathbf{p} = \\text{softmax}(\\mathbf{z})$. \n",
        "\n",
        "Note that the derivative of the loss w.r.t. $\\mathbf{p}_j$ can be written as \n",
        "$$\\frac{\\partial Loss_i }{\\partial \\mathbf{p}_j} = \\begin{cases} -1/\\mathbf{p}_j & j = y_i \\\\ 0 & j \\ne y_i \\end{cases}. $$\n",
        "\n",
        "Note that we can use _total derivative_ to compute the derivative of the loss for $i$th sample w.r.t. $j$th entry in $\\mathbf{z}$ as\n",
        "\n",
        "\\begin{align*}\n",
        "\\frac{\\partial Loss_i}{\\partial \\mathbf{z}_j} = \\sum_c \\frac{\\partial Loss_i}{\\partial \\mathbf{p}_c}\\frac{\\partial \\mathbf{p}_c}{\\partial \\mathbf{z}_j}.\n",
        "\\end{align*}\n",
        "\n",
        "From our discussion above, we know that the $\\frac{\\partial Loss_i}{\\partial \\mathbf{p}_c} = 0$ if $c \\ne y_i$. \n",
        "\n",
        "\n",
        "\\begin{align*}\n",
        "\\frac{\\partial Loss_i}{\\partial \\mathbf{z}_j} &= -\\frac{1}{\\mathbf{p}_c} \\frac{\\partial \\mathbf{p}_c}{\\partial \\mathbf{z}_j} \\\\\n",
        "& = \\begin{cases} \\mathbf{p}_j - 1 & j = y_i \\\\ \\mathbf{p}_j & j \\ne y_i. \\end{cases}\n",
        "\\end{align*}\n",
        "\n",
        "Therefore, $$\\delta^{(2)} = \\nabla_{\\mathbf{z}^{(2)}} Loss_i = \\mathbf{p} - \\mathbf{1}_{y_i}.$$\n",
        "\n",
        "where $\\mathbf{1}_{y_i}$ is a __one-hot vector__ that has length $K$ and is zero everywhere except 1 at index same as $y_i$. \n"
      ]
    },
    {
      "cell_type": "markdown",
      "metadata": {
        "id": "462ORdiFLdz2"
      },
      "source": [
        "### Training data\n",
        "\n",
        "Let us pick training data for multi-class classification. \n",
        "\n",
        "Pick same number of images from each class for training and create arrays for input and output. \n",
        "\n",
        "```\n",
        "# train_x -- N x 784 array of training input\n",
        "# train_y -- N x 1 array of labels \n",
        "```  \n",
        "\n",
        "If you use 1000 images from each class N = 10000. You can increase the number of training samples if you like. You may also use unequal number of images in each class. \n",
        "\n",
        "We also need to transpose the dimension of the data so that their size becomes $784\\times N$. It will be helpful to feed it to our model based on our notations."
      ]
    },
    {
      "cell_type": "code",
      "metadata": {
        "id": "BZ6Z-yPgL3xm",
        "colab": {
          "base_uri": "https://localhost:8080/"
        },
        "outputId": "c488f253-0550-4e05-ea16-5583b67948a8"
      },
      "source": [
        "# Pick training samples \n",
        "num_samples = 1000\n",
        "\n",
        "# Training data\n",
        "x = np.zeros((0,784))\n",
        "y = np.zeros((0))\n",
        "for label in range(10):\n",
        "  x1 = x_train[y_train == label]  \n",
        "  x1 = x1[:num_samples]\n",
        "  y1 = y_train[y_train == label]\n",
        "  y1 = y1[:num_samples]\n",
        "  \n",
        "  x = np.concatenate((x,x1),axis=0)\n",
        "  y = np.concatenate((y,y1),axis=0)\n",
        "\n",
        "train_x = x\n",
        "train_y = y\n",
        "print(\"Training data shape:\", train_x.shape)\n",
        "\n",
        "\n",
        "# Test data\n",
        "test_x = x_test\n",
        "test_y = y_test \n",
        "print(\"Test data shape:\", test_x.shape)\n",
        "\n",
        "# reshape data \n",
        "train_x = train_x.T\n",
        "test_x = test_x.T\n",
        "print(\"Training data shape:\", train_x.shape) \n",
        "print(\"Test data shape:\", test_x.shape)"
      ],
      "execution_count": null,
      "outputs": [
        {
          "output_type": "stream",
          "name": "stdout",
          "text": [
            "Training data shape: (10000, 784)\n",
            "Test data shape: (10000, 784)\n",
            "Training data shape: (784, 10000)\n",
            "Test data shape: (784, 10000)\n"
          ]
        }
      ]
    },
    {
      "cell_type": "code",
      "source": [
        "# You can convert the array of labels into an array of one hot vectors as follows\n",
        "N = len(train_y)\n",
        "onehot_y = np.zeros((10,N))\n",
        "onehot_y[train_y.astype(int),np.arange(N)] = 1"
      ],
      "metadata": {
        "id": "U-OQ26bu6cSG"
      },
      "execution_count": null,
      "outputs": []
    },
    {
      "cell_type": "code",
      "source": [
        "# one hot vectors conversion for Test data\n",
        "N = len(test_y)\n",
        "onehot_test_y = np.zeros((10,N))\n",
        "onehot_test_y[test_y.astype(int),np.arange(N)] = 1"
      ],
      "metadata": {
        "id": "G4ZjXu37kO1Q"
      },
      "execution_count": null,
      "outputs": []
    },
    {
      "cell_type": "markdown",
      "metadata": {
        "id": "xoXHKji6L3xo"
      },
      "source": [
        "### Network Architecture\n",
        "\n",
        "We will be using a two layer neural network in our experiment. The input layer has 784 nodes, the hidden layer will have 256 nodes and the output layer will have 10 nodes. First layer will have __sigmoid__ activation and second layer will have __softmax__ activation.\n",
        "\n",
        "The equations for feedforward operation will be as follows.\n",
        "\n",
        "$$\\mathbf{z}^{(1)}=W^{(1)} \\mathbf{x}+ \\mathbf{b}^{(1)}\\\\\\mathbf{y}^{(1)}=\\text{sigmoid}(\\mathbf{z}^{(1)})\\\\\\mathbf{z}^{(2)}=W^{(2)}  \\mathbf{y}^{(1)}+ \\mathbf{b}^{(2)} \\\\\\mathbf{p} = \\mathbf{y}^{(2)}=\\text{softmax}(\\mathbf{z}^{(2)})$$\n",
        "\n",
        "where $\\mathbf{x}\\in \\mathbb{R}^{784}$ is the input layer, $\\mathbf{y}^{(1)}\\in \\mathbb{R}^{256}$ is the hidden layer, $\\mathbf{y}^{(2)} \\in \\mathbb{R}$ is the output layer, $W^{(1)}\\in \\mathbb{R}^{256\\times 784}$ is the first layer weights, $W^{(2)}\\in \\mathbb{R}^{10\\times 256}$ is the second layer weights, $\\mathbf{b}^{(1)}\\in \\mathbb{R}^{256}$ is the first layer bias, $\\mathbf{b}^{(2)}\\in \\mathbb{R}^{10}$ is the second layer bias vector."
      ]
    },
    {
      "cell_type": "markdown",
      "metadata": {
        "id": "2Fqsp1BvL3xp"
      },
      "source": [
        "### Network initialization [5 pts]\n",
        "\n",
        "We initialize the weights for $W^{(1)}$ and $W^{(2)}$ with random values drawn from normal distribution with zero mean and 0.01 standard deviation. We will initialize bias vectors $\\mathbf{b}^{(1)}$ and $\\mathbf{b^{(2)}}$ with zero values. \n",
        "\n",
        "We can fix the seed for random initialization for reproducibility."
      ]
    },
    {
      "cell_type": "code",
      "metadata": {
        "id": "nu-3CQlRL3xp"
      },
      "source": [
        "def TwoLayerNetwork(layer_dims=[784,256,10]):\n",
        "    # TODO \n",
        "    # Your code goes here\n",
        "\n",
        "    # Fix the seed\n",
        "    np.random.seed(3)\n",
        "    \n",
        "    #Initialize the weights\n",
        "\n",
        "    input_layer =  layer_dims[0]\n",
        "    hidden_layer1= layer_dims[1]\n",
        "    output_layer = layer_dims[2]\n",
        "\n",
        "    params = {\n",
        "       'W1' : np.random.normal(0, 0.01, (hidden_layer1, input_layer)),\n",
        "       'b1' : np.zeros((hidden_layer1, 1)),\n",
        "       'W2' : np.random.normal(0, 0.01, (output_layer, hidden_layer1)),\n",
        "       'b2' : np.zeros((output_layer, 1))\n",
        "       }\n",
        "       \n",
        "    return params"
      ],
      "execution_count": null,
      "outputs": []
    },
    {
      "cell_type": "markdown",
      "metadata": {
        "id": "av7l9tOKUuAN"
      },
      "source": [
        "### Forward propagation \n",
        "Next, we will write the code for the forward pass for two layer network. Each layer consists of an affine function (fully-connected layer) followed by an activation function. You wil also return the intermediate results ($\\mathbf{x}, \\mathbf{z}^{(1)}, \\mathbf{y}^{(1)}, \\mathbf{z}^{(2)}$) in addition to final output ($\\mathbf{y}^{(2)}$). You will need the intermediate outputs for the backpropagation step."
      ]
    },
    {
      "cell_type": "code",
      "metadata": {
        "id": "kLSoTwFkUuAO"
      },
      "source": [
        "def forward(X, params):\n",
        "    \n",
        "    # TODO \n",
        "    # Write your codes here\n",
        "\n",
        "    # X -- 784 x N array \n",
        "    # params -- \n",
        "      # W1 -- 256 x 784 matrix\n",
        "      # b1 -- 256 x 1 vector\n",
        "      # W2 -- 10 x 256 matrix\n",
        "      # b2 -- 10 x 1 scalar \n",
        "    # probs -- 10 x N output \n",
        "      W1 = params['W1']\n",
        "      b1 = params['b1']\n",
        "      W2 = params['W2']\n",
        "      b2 = params['b2']\n",
        "\n",
        "      Z1 = np.dot(W1,X) + b1\n",
        "      Y1 = sigmoid(Z1)\n",
        "      Z2 = np.dot(W2,Y1) + b2\n",
        "      probs = softmax(Z2)\n",
        "\n",
        "      intermediate = {\n",
        "          'X':X,\n",
        "          'Z1':Z1,\n",
        "          'Y1':Y1,\n",
        "          'Z2':Z2\n",
        "      }\n",
        "      return probs, intermediate"
      ],
      "execution_count": null,
      "outputs": []
    },
    {
      "cell_type": "markdown",
      "metadata": {
        "id": "Z3QjvXHIUuAO"
      },
      "source": [
        "### Backpropagration step [10 pts]\n",
        "\n",
        "Now we will implement the backpropagation step for the two layer neural network using softmax layer and loss function. \n",
        "\n",
        "\n",
        "You will need the gradient of the Loss w.r.t. $W^{(l)},\\mathbf{b}^{(l)}$ for $l = 1,2$ for all the training samples.  \n",
        "\n",
        "We saw that we can write the gradient of Loss with respect to $W^{(l)}, \\mathbf{b}^{(l)}$ for a single sample as\n",
        "\n",
        "$$\\nabla_{W^{(l)}} Loss_i = \\delta^{(l)} \\mathbf{y}^{(l-1)T},$$  \n",
        "$$\\nabla_{\\mathbf{b}^{(l)}} Loss_i = \\delta^{(l)},$$\n",
        "\n",
        "\n",
        "where \n",
        "$$\\delta^{(l)} = \\nabla_{\\mathbf{z}^{(l)}} Loss = \\nabla_{\\mathbf{y}^{(l)}} Loss \\odot \\varphi'(\\mathbf{z}^{(l)}).$$ \n",
        "\n",
        "We saw above that for an $i$th sample, $\\delta^{(2)} = \\nabla_{\\mathbf{z}^{(2)}} Loss_i = \\mathbf{p} - \\mathbf{1}_{y_i},$ where $\\mathbf{1}_{y_i}$ is a __one-hot vector__ that has length $K$ and is zero everywhere except 1 at index same as $y_i$ and $\\mathbf{p}$ is the outpu probability vector for the $i$th sample. \n",
        "\n",
        "\n",
        "**Once we have the gradients $\\nabla_{W^{(l)}} Loss_i, \\nabla_{\\mathbf{b}^{(l)}} Loss_i$ for all $i$. We can compute their average to compute the gradient of the total loss function as**\n",
        "\n",
        "$$\\nabla_{W^{(l)}} Loss = \\frac{1}{N} \\sum_i \\nabla_{W^{(l)}} Loss_i, $$\n",
        "$$ \\nabla_{\\mathbf{b}^{(l)}} Loss = \\frac{1}{N} \\sum_i  \\nabla_{\\mathbf{b}^{(l)}} Loss_i.$$\n",
        "\n",
        "**Please refer to the slides and lectures for more details.**"
      ]
    },
    {
      "cell_type": "code",
      "metadata": {
        "id": "T0hPvx0SUuAP"
      },
      "source": [
        "def backward(Y_true, probs, intermediate, params):\n",
        "    \n",
        "    # Inputs: \n",
        "      # Y_true -- true labels\n",
        "      # probs -- 10 x N output of the last layer\n",
        "      # intermediate -- X, Z1, Y1, Z2 \n",
        "      # params -- W1, b1, W2, b2 \n",
        "    \n",
        "    # Outputs: \n",
        "      # grads -- [grad_W1, grad_b1, grad_W2, grad_b2]\n",
        "    \n",
        "    # TODO \n",
        "    # Write your codes here\n",
        "    W1 = params['W1']\n",
        "    W2 = params['W2']\n",
        "\n",
        "    Y1 = intermediate['Y1']\n",
        "    X = intermediate['X']\n",
        "    Z1 = intermediate['Z1']\n",
        "\n",
        "    m = 1 #X.shape[1]\n",
        "\n",
        "    dif = (probs - Y_true)\n",
        "    grad_W2 = (1/m) * np.dot(dif,Y1.T)\n",
        "    grad_b2 = (1/m) * np.sum(dif, axis=1, keepdims = True)\n",
        "    derivative_sigmoid =  (sigmoid(Z1) * (1 - sigmoid(Z1))) \n",
        "    dff2 = (1/m) * np.dot(W2.T, dif) * derivative_sigmoid\n",
        "\n",
        "    grad_W1 = (1/m) * np.dot(dff2, X.T)\n",
        "    grad_b1 = (1/m) * np.sum(dff2, axis=1, keepdims=True)\n",
        "\n",
        "    grads = {\"grad_W1\": grad_W1,\n",
        "             \"grad_b1\": grad_b1,\n",
        "             \"grad_W2\": grad_W2,\n",
        "             \"grad_b2\": grad_b2}\n",
        "          \n",
        "    return grads"
      ],
      "execution_count": null,
      "outputs": []
    },
    {
      "cell_type": "markdown",
      "metadata": {
        "id": "1DTxxcDTvVQD"
      },
      "source": [
        "### Train the model [5 pts]\n",
        "We will use the forward and backward functions defined above with the same optimizer defined in the previous question to train our multi-class classificaiton model. \n",
        "\n",
        "We will specify the number of nodes in the layers, number of epochs and learning rate and initialize the network"
      ]
    },
    {
      "cell_type": "code",
      "metadata": {
        "id": "xmhkhUisUuAQ"
      },
      "source": [
        "layer_dims = [train_x.shape[0],256,10]\n",
        "epochs = 100\n",
        "lr = 0.00001\n",
        "\n",
        "params = TwoLayerNetwork(layer_dims)"
      ],
      "execution_count": null,
      "outputs": []
    },
    {
      "cell_type": "markdown",
      "metadata": {
        "id": "9DZAfG5QUuAQ"
      },
      "source": [
        "Then we train the network for the number of epochs specified above. In every epoch, we will do the following:\n",
        "1. Calculate the forward pass to get estimated labels.\n",
        "2. Use the estimated labels calculate loss. We will be recording loss for every epoch.\n",
        "3. Use backpropagation to calculate gradients.\n",
        "4. Use gradient descent to update the weights and biases.\n",
        "\n",
        "You should store the loss value after every epoch in an array ```loss_history```  and print the loss value after every few epochs (say 20). \n"
      ]
    },
    {
      "cell_type": "code",
      "metadata": {
        "id": "P1zSP6g8UuAQ",
        "colab": {
          "base_uri": "https://localhost:8080/"
        },
        "outputId": "2aae91ca-4bd3-4493-ae4d-fc3d1a64cdbc"
      },
      "source": [
        "# TODO \n",
        "# Write your codes here\n",
        "loss_history = []\n",
        "for i in range(0, epochs):\n",
        "         \n",
        "        # Forward propagation. Inputs: \"train_x, params\" and Outputs: \"Y2, intermediate\".\n",
        "        Y2, intermediate = forward(train_x, params)\n",
        "        \n",
        "        # Cost function. Inputs: \"train_y, Y2, parameters\". Outputs: \"cost\".\n",
        "        cost = MultiClassCrossEntropyLoss(onehot_y, Y2)\n",
        "        loss_history.append(cost)\n",
        " \n",
        "        # Backpropagation. Inputs: \"train_y, Y2, intermediate, params\". Outputs: \"grads\".\n",
        "        grads = backward(onehot_y, Y2, intermediate, params)\n",
        " \n",
        "        # Gradient descent parameter update. Inputs: \"params, grads,l r\". Outputs: \"params\".\n",
        "        params = GD(params, grads, lr)\n",
        "\n",
        "        # Print the cost for every iterations\n",
        "        print(\"Cost after iteration %i: %f\" %(i, cost))\n",
        " "
      ],
      "execution_count": null,
      "outputs": [
        {
          "output_type": "stream",
          "name": "stdout",
          "text": [
            "Cost after iteration 0: 2.315651\n",
            "Cost after iteration 1: 2.173162\n",
            "Cost after iteration 2: 2.056383\n",
            "Cost after iteration 3: 1.937366\n",
            "Cost after iteration 4: 1.817199\n",
            "Cost after iteration 5: 1.702126\n",
            "Cost after iteration 6: 1.596448\n",
            "Cost after iteration 7: 1.509516\n",
            "Cost after iteration 8: 1.432855\n",
            "Cost after iteration 9: 1.396905\n",
            "Cost after iteration 10: 1.386556\n",
            "Cost after iteration 11: 1.413789\n",
            "Cost after iteration 12: 1.260019\n",
            "Cost after iteration 13: 1.139105\n",
            "Cost after iteration 14: 1.022421\n",
            "Cost after iteration 15: 0.964916\n",
            "Cost after iteration 16: 0.912099\n",
            "Cost after iteration 17: 0.884929\n",
            "Cost after iteration 18: 0.862095\n",
            "Cost after iteration 19: 0.870044\n",
            "Cost after iteration 20: 0.867799\n",
            "Cost after iteration 21: 0.845846\n",
            "Cost after iteration 22: 0.786888\n",
            "Cost after iteration 23: 0.712484\n",
            "Cost after iteration 24: 0.665526\n",
            "Cost after iteration 25: 0.637399\n",
            "Cost after iteration 26: 0.621795\n",
            "Cost after iteration 27: 0.617332\n",
            "Cost after iteration 28: 0.628003\n",
            "Cost after iteration 29: 0.657855\n",
            "Cost after iteration 30: 0.690699\n",
            "Cost after iteration 31: 0.702924\n",
            "Cost after iteration 32: 0.669135\n",
            "Cost after iteration 33: 0.604685\n",
            "Cost after iteration 34: 0.554497\n",
            "Cost after iteration 35: 0.517394\n",
            "Cost after iteration 36: 0.496646\n",
            "Cost after iteration 37: 0.487444\n",
            "Cost after iteration 38: 0.472912\n",
            "Cost after iteration 39: 0.464290\n",
            "Cost after iteration 40: 0.449599\n",
            "Cost after iteration 41: 0.440567\n",
            "Cost after iteration 42: 0.429594\n",
            "Cost after iteration 43: 0.417999\n",
            "Cost after iteration 44: 0.407071\n",
            "Cost after iteration 45: 0.398505\n",
            "Cost after iteration 46: 0.393920\n",
            "Cost after iteration 47: 0.391904\n",
            "Cost after iteration 48: 0.395234\n",
            "Cost after iteration 49: 0.395056\n",
            "Cost after iteration 50: 0.412017\n",
            "Cost after iteration 51: 0.411342\n",
            "Cost after iteration 52: 0.425004\n",
            "Cost after iteration 53: 0.410686\n",
            "Cost after iteration 54: 0.412326\n",
            "Cost after iteration 55: 0.386273\n",
            "Cost after iteration 56: 0.370131\n",
            "Cost after iteration 57: 0.358094\n",
            "Cost after iteration 58: 0.348750\n",
            "Cost after iteration 59: 0.344809\n",
            "Cost after iteration 60: 0.335725\n",
            "Cost after iteration 61: 0.332004\n",
            "Cost after iteration 62: 0.325838\n",
            "Cost after iteration 63: 0.321649\n",
            "Cost after iteration 64: 0.319759\n",
            "Cost after iteration 65: 0.323888\n",
            "Cost after iteration 66: 0.333387\n",
            "Cost after iteration 67: 0.349009\n",
            "Cost after iteration 68: 0.370635\n",
            "Cost after iteration 69: 0.371205\n",
            "Cost after iteration 70: 0.375003\n",
            "Cost after iteration 71: 0.355023\n",
            "Cost after iteration 72: 0.332351\n",
            "Cost after iteration 73: 0.311275\n",
            "Cost after iteration 74: 0.288652\n",
            "Cost after iteration 75: 0.279772\n",
            "Cost after iteration 76: 0.271483\n",
            "Cost after iteration 77: 0.268140\n",
            "Cost after iteration 78: 0.264177\n",
            "Cost after iteration 79: 0.265197\n",
            "Cost after iteration 80: 0.265204\n",
            "Cost after iteration 81: 0.271864\n",
            "Cost after iteration 82: 0.273744\n",
            "Cost after iteration 83: 0.283709\n",
            "Cost after iteration 84: 0.287927\n",
            "Cost after iteration 85: 0.301020\n",
            "Cost after iteration 86: 0.307465\n",
            "Cost after iteration 87: 0.322694\n",
            "Cost after iteration 88: 0.314729\n",
            "Cost after iteration 89: 0.325287\n",
            "Cost after iteration 90: 0.295406\n",
            "Cost after iteration 91: 0.278118\n",
            "Cost after iteration 92: 0.253144\n",
            "Cost after iteration 93: 0.241142\n",
            "Cost after iteration 94: 0.235198\n",
            "Cost after iteration 95: 0.232408\n",
            "Cost after iteration 96: 0.230647\n",
            "Cost after iteration 97: 0.231047\n",
            "Cost after iteration 98: 0.231889\n",
            "Cost after iteration 99: 0.236112\n"
          ]
        }
      ]
    },
    {
      "cell_type": "markdown",
      "metadata": {
        "id": "mAtKFEjTUuAQ"
      },
      "source": [
        "Now we will plot the recorded loss values vs epochs. We will observe the training loss decreasing with the epochs."
      ]
    },
    {
      "cell_type": "code",
      "metadata": {
        "id": "Hw14IunrUuAQ",
        "colab": {
          "base_uri": "https://localhost:8080/",
          "height": 279
        },
        "outputId": "abfd1840-004d-4a3f-ab54-4ea141e85e4b"
      },
      "source": [
        "plt.figure()\n",
        "plt.plot(loss_history)\n",
        "plt.xlabel(\"Epochs\")\n",
        "plt.ylabel(\"Training Loss\")\n",
        "plt.show()"
      ],
      "execution_count": null,
      "outputs": [
        {
          "output_type": "display_data",
          "data": {
            "text/plain": [
              "<Figure size 432x288 with 1 Axes>"
            ],
            "image/png": "[encoded data removed]"
          },
          "metadata": {
            "needs_background": "light"
          }
        }
      ]
    },
    {
      "cell_type": "markdown",
      "metadata": {
        "id": "Pf4fN1udUuAR"
      },
      "source": [
        "### Evaluation on test data [5 pts]\n",
        "\n",
        "Now we will be evaluating the accuracy we get from the trained model. We feed training data and test data to the forward model along with the trained parameters. \n",
        "\n",
        "Note that, we need to convert the (probability) output of the forward pass into labels before evaluating accuracy. We can assign label based on the maximum probability. \n",
        "\n",
        "We assign estimated labels $$\\hat{y}_i = \\arg \\max_c  \\mathbf{p}_c $$ for every probility vector. "
      ]
    },
    {
      "cell_type": "code",
      "metadata": {
        "id": "KAhOtQigUuAR",
        "colab": {
          "base_uri": "https://localhost:8080/"
        },
        "outputId": "ef4b1b77-709f-4670-c56f-0438e82786de"
      },
      "source": [
        "from numpy.ma.core import argmax\n",
        "from numpy.ma.core import argmax\n",
        "# TODO  \n",
        "\n",
        "def accuracy(test_x, onehot_test_y, params):\n",
        "    Y2, intermediate = forward(test_x , params)\n",
        "    output = np.argmax(Y2,0)\n",
        "    output_given = np.argmax(onehot_test_y,0)\n",
        "    output == output_given\n",
        "    acc = np.mean(output_given == output)*100\n",
        "    return acc\n",
        "\n",
        "print(\"Training accuracy:\",accuracy(train_x, onehot_y, params))\n",
        "print(\"Test accuracy:\",accuracy(test_x, onehot_test_y, params))"
      ],
      "execution_count": null,
      "outputs": [
        {
          "output_type": "stream",
          "name": "stdout",
          "text": [
            "Training accuracy: 94.26\n",
            "Test accuracy: 91.4\n"
          ]
        }
      ]
    },
    {
      "cell_type": "markdown",
      "metadata": {
        "id": "iLjwg5wjMcyB"
      },
      "source": [
        "### Visualize some of the correct/miscalassified images [optional]\n",
        "\n",
        "Now we will look at some images from training and test sets that were misclassified. \n",
        "\n",
        "Training set. \n",
        "Pick example from each class that are correcly and incorreclty classified. \n",
        "True/False Positive/Negatives\n",
        "\n",
        "Test set. \n",
        "Pick examples from each class that are correcly and incorreclty classified. \n",
        "True/False Positive/Negatives\n"
      ]
    },
    {
      "cell_type": "code",
      "metadata": {
        "id": "R-NtpDz-Mkub"
      },
      "source": [
        "# TODO \n",
        "# Your code goes here ...\n",
        "\n",
        "\n"
      ],
      "execution_count": null,
      "outputs": []
    },
    {
      "cell_type": "markdown",
      "metadata": {
        "id": "tU1ZfPTjv-jm"
      },
      "source": [
        "### Note about implementation\n",
        "\n",
        "This is a note on two problems I have seen in the past and how they can be easily fixed. \n",
        "\n",
        "1. Summation along different axes ? \n",
        "\n",
        "2. Summation of gradients over samples ? \n",
        "\n",
        "\n",
        "\n",
        "\n",
        "**1. Summation to create probability vectors in the Softmax function**\n",
        "\n",
        "Suppose X is a d x N array, in our case, it is 784 x 10000. \n",
        "\n",
        "`Z2 = W2 Y1 + b2  will be 10 x 10000 array `\n",
        "\n",
        "\n",
        "\n",
        "`softmax(Z2)` will be a `10 x 10000` array in which we want to apply a softmax function on every column of `Z2` by first computing exponential and then normalizing the column to sum to 1, which is needed for it to be a probability vector. \n",
        "\n",
        "\n",
        "\n",
        "\n",
        "We can do that as \n",
        "```\n",
        "probs = np.exp(Z2) \n",
        "\n",
        "# now you want to sum up each column and divide the column by the sum so that each column is a valid probability vector\n",
        "\n",
        "probs /= np.sum(probs,axis=0,keepdims=True) # this makes sum of each column to 1\n",
        "```\n",
        "\n",
        "The **WRONG** thing to do is\n",
        "```\n",
        "probs /= np.sum(probs) \n",
        "# This is WRONG. np.sum() computes sum of the entire array. \n",
        "```\n",
        "\n",
        "\n",
        "\n",
        "**2. Computing gradient for the entire loss function**\n",
        "\n",
        "(this involves summation of N rank-one matrices in our notation.)\n",
        "\n",
        "\n",
        "\n",
        "\n",
        "Suppose you have computed delta1, delta2 properly\n",
        "\n",
        "\n",
        "\n",
        "\n",
        "Let's assume you computed\n",
        "```\n",
        "# delta2 is a 10 x 10000 array\n",
        "# Y1 is a 256 x 10000 array\n",
        "# N is 10000\n",
        "# grad_W2 should be a 10 x 256 array\n",
        "```\n",
        "\n",
        "\n",
        "\n",
        "We can expand the formula for the gradient of the overall loss. \n",
        "\n",
        "$$\\nabla_{W^{(2)}} Loss = \\frac{1}{N}\\sum_i \\nabla_{W^{(2)}} Loss_i, $$ \n",
        "\n",
        "where \n",
        "\n",
        "$$\\nabla_{W^{(2)}} Loss_i = \\delta^{(2)} y^{(1)T}$$ is the gradient of the loss for $i$th training sample, where $\\delta^{(2)}$ is a column of length 10 and $y^{(1)T}$ is a row of length 256, corresponding to $i$th training sample. Matrix product of column and row gives a a rank-1 matrix of size 10 x 256. \n",
        "\n",
        "\n",
        "\n",
        "\n",
        "To compute the gradient of loss over all the training samples, we need to average the rank-1 matrices for all N training samples.\n",
        "\n",
        "\n",
        "We can write the code for that as \n",
        "\n",
        "```\n",
        "# Sum gradient of loss for each sample\n",
        "for i in range(N):\n",
        "\tgrad_W2 += (1/N)*delta2[:,i,None].dot(Y1[:,i,None].T)\n",
        "\n",
        "# OR we can compute grad_W2 without for loop as \n",
        "grad_W2 = 1/N*np.dot(delta2,Y1.T)\n",
        "```\n",
        "\n",
        "To see why this is true, you can convince yourself that matrix product of an `M x N` matrix with an `N x K` matrix can be written as a summation of N `M x K` rank-one matricess. \n",
        "\n",
        "\n",
        "\n",
        "\n",
        "Suppose \n",
        "\n",
        "$A = [\\mathbf{a}_1 ~ \\cdots ~ \\mathbf{a}_N] \\text{ and } B  = \\begin{bmatrix} \\mathbf{b}_1^T \\\\ \\vdots \\\\ \\mathbf{b}_N^T \\end{bmatrix},$\n",
        "\n",
        "where $\\mathbf{a}_i, \\mathbf{b}_i$ are columns of length $M, K$, respectively.  \n",
        "\n",
        " \n",
        "\n",
        "We can write $AB$ as \n",
        "\n",
        "\n",
        "\n",
        "\n",
        "$$AB = \\sum_{i = 1}^N \\mathbf{a}_i \\mathbf{b}_i^T.$$ \n",
        "\n",
        "\n",
        "\n",
        "\n",
        " \n"
      ]
    },
    {
      "cell_type": "markdown",
      "source": [
        "---\n",
        "## Submission instructions\n",
        "1. Download this Colab to ipynb, and convert it to PDF. Follow similar steps as [here](https://stackoverflow.com/questions/53460051/convert-ipynb-notebook-to-html-in-google-colab) but convert to PDF.\n",
        " - Download your .ipynb file. You can do it using only Google Colab. `File` -> `Download` -> `Download .ipynb`\n",
        " - Reupload it so Colab can see it. Click on the `Files` icon on the far left to expand the side bar. You can directly drag the downloaded .ipynb file to the area. Or click `Upload to session storage` icon and then select & upload your .ipynb file.\n",
        " - Conversion using %%shell. \n",
        " ```\n",
        "!sudo apt-get update\n",
        "!sudo apt-get install texlive-xetex texlive-fonts-recommended texlive-generic-recommended\n",
        "!jupyter nbconvert --log-level CRITICAL --to pdf name_of_hw.ipynb\n",
        "  ```\n",
        " - Your PDF file is ready. Click 3 dots and `Download`.\n",
        "\n",
        "\n",
        "  \n",
        "\n",
        "2. Upload the PDF to Gradescope, select the correct pdf pages for each question. **Important!**\n",
        "\n",
        "3. Upload the ipynb file to Gradescope\n",
        "\n",
        "\n",
        "Notice:\n",
        "In case of errors in conversion, please check your LaTeX and debug. In Markdown, when you write in LaTeX math mode, do not leave any leading and trailing whitespaces inside the dollar signs ($). For example, write `(dollarSign)\\mathbf(dollarSign)(dollarSign)` instead of `(dollarSign)(space)\\mathbf{w}(dollarSign)`. Otherwise, nbconvert will throw an error and the generated pdf will be incomplete. [This is a bug of nbconvert.](https://tex.stackexchange.com/questions/367176/jupyter-notebook-latex-conversion-fails-escaped-and-other-symbols)\n"
      ],
      "metadata": {
        "id": "WecX82dMRrVo"
      }
    },
    {
      "cell_type": "code",
      "source": [
        "!sudo apt-get update\n",
        "!sudo apt-get install texlive-xetex texlive-fonts-recommended texlive-generic-recommended"
      ],
      "metadata": {
        "id": "ub1l1I4ZRqSS",
        "colab": {
          "base_uri": "https://localhost:8080/"
        },
        "outputId": "37bdb758-990b-4473-8a47-ae5b65c7aeff"
      },
      "execution_count": null,
      "outputs": [
        {
          "output_type": "stream",
          "name": "stdout",
          "text": [
            "\r0% [Working]\r            \rGet:1 http://security.ubuntu.com/ubuntu focal-security InRelease [114 kB]\n",
            "\r0% [Connecting to archive.ubuntu.com (185.125.190.39)] [1 InRelease 14.2 kB/114\r                                                                               \rGet:2 https://cloud.r-project.org/bin/linux/ubuntu focal-cran40/ InRelease [3,622 B]\n",
            "\r0% [Connecting to archive.ubuntu.com (185.125.190.39)] [1 InRelease 25.8 kB/114\r0% [Connecting to archive.ubuntu.com (185.125.190.39)] [1 InRelease 43.1 kB/114\r0% [Connecting to archive.ubuntu.com (185.125.190.39)] [Connecting to ppa.launc\r                                                                               \rGet:3 https://developer.download.nvidia.com/compute/cuda/repos/ubuntu2004/x86_64  InRelease [1,581 B]\n",
            "\r                                                                               \r0% [Waiting for headers] [Waiting for headers]\r                                              \rHit:4 http://archive.ubuntu.com/ubuntu focal InRelease\n",
            "\r0% [Waiting for headers] [Waiting for headers]\r0% [Waiting for headers] [Waiting for headers]\r                                              \rGet:5 http://ppa.launchpad.net/c2d4u.team/c2d4u4.0+/ubuntu focal InRelease [18.1 kB]\n",
            "\r0% [Waiting for headers] [5 InRelease 14.2 kB/18.1 kB 78%]\r0% [Waiting for headers] [5 InRelease 14.2 kB/18.1 kB 78%]\r                                                          \rGet:6 http://archive.ubuntu.com/ubuntu focal-updates InRelease [114 kB]\n",
            "Get:7 http://security.ubuntu.com/ubuntu focal-security/universe amd64 Packages [1,017 kB]\n",
            "Get:8 http://security.ubuntu.com/ubuntu focal-security/main amd64 Packages [2,544 kB]\n",
            "Get:9 https://developer.download.nvidia.com/compute/cuda/repos/ubuntu2004/x86_64  Packages [920 kB]\n",
            "Hit:10 http://ppa.launchpad.net/cran/libgit2/ubuntu focal InRelease\n",
            "Hit:11 http://ppa.launchpad.net/deadsnakes/ppa/ubuntu focal InRelease\n",
            "Get:12 http://archive.ubuntu.com/ubuntu focal-backports InRelease [108 kB]\n",
            "Hit:13 http://ppa.launchpad.net/graphics-drivers/ppa/ubuntu focal InRelease\n",
            "Get:14 http://archive.ubuntu.com/ubuntu focal-updates/main amd64 Packages [3,021 kB]\n",
            "Hit:15 http://ppa.launchpad.net/ubuntugis/ppa/ubuntu focal InRelease\n",
            "Get:16 http://ppa.launchpad.net/c2d4u.team/c2d4u4.0+/ubuntu focal/main Sources [2,398 kB]\n",
            "Get:17 http://archive.ubuntu.com/ubuntu focal-updates/universe amd64 Packages [1,313 kB]\n",
            "Get:18 http://ppa.launchpad.net/c2d4u.team/c2d4u4.0+/ubuntu focal/main amd64 Packages [1,136 kB]\n",
            "Fetched 12.7 MB in 2s (5,426 kB/s)\n",
            "Reading package lists... Done\n",
            "Reading package lists... Done\n",
            "Building dependency tree       \n",
            "Reading state information... Done\n",
            "E: Unable to locate package texlive-generic-recommended\n"
          ]
        }
      ]
    },
    {
      "cell_type": "code",
      "source": [
        "!jupyter nbconvert --log-level CRITICAL --to pdf fall2022_hw3.ipynb # make sure the ipynb name is correct"
      ],
      "metadata": {
        "id": "M2XuF-qZ_-fk",
        "colab": {
          "base_uri": "https://localhost:8080/"
        },
        "outputId": "a8df3041-d656-476b-91c1-3e3ac273bc49"
      },
      "execution_count": null,
      "outputs": [
        {
          "output_type": "stream",
          "name": "stdout",
          "text": [
            "This application is used to convert notebook files (*.ipynb)\n",
            "        to various other formats.\n",
            "\n",
            "        WARNING: THE COMMANDLINE INTERFACE MAY CHANGE IN FUTURE RELEASES.\n",
            "\n",
            "Options\n",
            "=======\n",
            "The options below are convenience aliases to configurable class-options,\n",
            "as listed in the \"Equivalent to\" description-line of the aliases.\n",
            "To see all configurable class-options for some <cmd>, use:\n",
            "    <cmd> --help-all\n",
            "\n",
            "--debug\n",
            "    set log level to logging.DEBUG (maximize logging output)\n",
            "    Equivalent to: [--Application.log_level=10]\n",
            "--show-config\n",
            "    Show the application's configuration (human-readable format)\n",
            "    Equivalent to: [--Application.show_config=True]\n",
            "--show-config-json\n",
            "    Show the application's configuration (json format)\n",
            "    Equivalent to: [--Application.show_config_json=True]\n",
            "--generate-config\n",
            "    generate default config file\n",
            "    Equivalent to: [--JupyterApp.generate_config=True]\n",
            "-y\n",
            "    Answer yes to any questions instead of prompting.\n",
            "    Equivalent to: [--JupyterApp.answer_yes=True]\n",
            "--execute\n",
            "    Execute the notebook prior to export.\n",
            "    Equivalent to: [--ExecutePreprocessor.enabled=True]\n",
            "--allow-errors\n",
            "    Continue notebook execution even if one of the cells throws an error and include the error message in the cell output (the default behaviour is to abort conversion). This flag is only relevant if '--execute' was specified, too.\n",
            "    Equivalent to: [--ExecutePreprocessor.allow_errors=True]\n",
            "--stdin\n",
            "    read a single notebook file from stdin. Write the resulting notebook with default basename 'notebook.*'\n",
            "    Equivalent to: [--NbConvertApp.from_stdin=True]\n",
            "--stdout\n",
            "    Write notebook output to stdout instead of files.\n",
            "    Equivalent to: [--NbConvertApp.writer_class=StdoutWriter]\n",
            "--inplace\n",
            "    Run nbconvert in place, overwriting the existing notebook (only\n",
            "            relevant when converting to notebook format)\n",
            "    Equivalent to: [--NbConvertApp.use_output_suffix=False --NbConvertApp.export_format=notebook --FilesWriter.build_directory=]\n",
            "--clear-output\n",
            "    Clear output of current file and save in place,\n",
            "            overwriting the existing notebook.\n",
            "    Equivalent to: [--NbConvertApp.use_output_suffix=False --NbConvertApp.export_format=notebook --FilesWriter.build_directory= --ClearOutputPreprocessor.enabled=True]\n",
            "--no-prompt\n",
            "    Exclude input and output prompts from converted document.\n",
            "    Equivalent to: [--TemplateExporter.exclude_input_prompt=True --TemplateExporter.exclude_output_prompt=True]\n",
            "--no-input\n",
            "    Exclude input cells and output prompts from converted document.\n",
            "            This mode is ideal for generating code-free reports.\n",
            "    Equivalent to: [--TemplateExporter.exclude_output_prompt=True --TemplateExporter.exclude_input=True --TemplateExporter.exclude_input_prompt=True]\n",
            "--allow-chromium-download\n",
            "    Whether to allow downloading chromium if no suitable version is found on the system.\n",
            "    Equivalent to: [--WebPDFExporter.allow_chromium_download=True]\n",
            "--disable-chromium-sandbox\n",
            "    Disable chromium security sandbox when converting to PDF..\n",
            "    Equivalent to: [--WebPDFExporter.disable_sandbox=True]\n",
            "--show-input\n",
            "    Shows code input. This flag is only useful for dejavu users.\n",
            "    Equivalent to: [--TemplateExporter.exclude_input=False]\n",
            "--embed-images\n",
            "    Embed the images as base64 dataurls in the output. This flag is only useful for the HTML/WebPDF/Slides exports.\n",
            "    Equivalent to: [--HTMLExporter.embed_images=True]\n",
            "--sanitize-html\n",
            "    Whether the HTML in Markdown cells and cell outputs should be sanitized..\n",
            "    Equivalent to: [--HTMLExporter.sanitize_html=True]\n",
            "--log-level=<Enum>\n",
            "    Set the log level by value or name.\n",
            "    Choices: any of [0, 10, 20, 30, 40, 50, 'DEBUG', 'INFO', 'WARN', 'ERROR', 'CRITICAL']\n",
            "    Default: 30\n",
            "    Equivalent to: [--Application.log_level]\n",
            "--config=<Unicode>\n",
            "    Full path of a config file.\n",
            "    Default: ''\n",
            "    Equivalent to: [--JupyterApp.config_file]\n",
            "--to=<Unicode>\n",
            "    The export format to be used, either one of the built-in formats\n",
            "            ['asciidoc', 'custom', 'html', 'latex', 'markdown', 'notebook', 'pdf', 'python', 'rst', 'script', 'slides', 'webpdf']\n",
            "            or a dotted object name that represents the import path for an\n",
            "            ``Exporter`` class\n",
            "    Default: ''\n",
            "    Equivalent to: [--NbConvertApp.export_format]\n",
            "--template=<Unicode>\n",
            "    Name of the template to use\n",
            "    Default: ''\n",
            "    Equivalent to: [--TemplateExporter.template_name]\n",
            "--template-file=<Unicode>\n",
            "    Name of the template file to use\n",
            "    Default: None\n",
            "    Equivalent to: [--TemplateExporter.template_file]\n",
            "--theme=<Unicode>\n",
            "    Template specific theme(e.g. the name of a JupyterLab CSS theme distributed\n",
            "    as prebuilt extension for the lab template)\n",
            "    Default: 'light'\n",
            "    Equivalent to: [--HTMLExporter.theme]\n",
            "--sanitize_html=<Bool>\n",
            "    Whether the HTML in Markdown cells and cell outputs should be sanitized.This\n",
            "    should be set to True by nbviewer or similar tools.\n",
            "    Default: False\n",
            "    Equivalent to: [--HTMLExporter.sanitize_html]\n",
            "--writer=<DottedObjectName>\n",
            "    Writer class used to write the\n",
            "                                        results of the conversion\n",
            "    Default: 'FilesWriter'\n",
            "    Equivalent to: [--NbConvertApp.writer_class]\n",
            "--post=<DottedOrNone>\n",
            "    PostProcessor class used to write the\n",
            "                                        results of the conversion\n",
            "    Default: ''\n",
            "    Equivalent to: [--NbConvertApp.postprocessor_class]\n",
            "--output=<Unicode>\n",
            "    overwrite base name use for output files.\n",
            "                can only be used when converting one notebook at a time.\n",
            "    Default: ''\n",
            "    Equivalent to: [--NbConvertApp.output_base]\n",
            "--output-dir=<Unicode>\n",
            "    Directory to write output(s) to. Defaults\n",
            "                                  to output to the directory of each notebook. To recover\n",
            "                                  previous default behaviour (outputting to the current\n",
            "                                  working directory) use . as the flag value.\n",
            "    Default: ''\n",
            "    Equivalent to: [--FilesWriter.build_directory]\n",
            "--reveal-prefix=<Unicode>\n",
            "    The URL prefix for reveal.js (version 3.x).\n",
            "            This defaults to the reveal CDN, but can be any url pointing to a copy\n",
            "            of reveal.js.\n",
            "            For speaker notes to work, this must be a relative path to a local\n",
            "            copy of reveal.js: e.g., \"reveal.js\".\n",
            "            If a relative path is given, it must be a subdirectory of the\n",
            "            current directory (from which the server is run).\n",
            "            See the usage documentation\n",
            "            (https://nbconvert.readthedocs.io/en/latest/usage.html#reveal-js-html-slideshow)\n",
            "            for more details.\n",
            "    Default: ''\n",
            "    Equivalent to: [--SlidesExporter.reveal_url_prefix]\n",
            "--nbformat=<Enum>\n",
            "    The nbformat version to write.\n",
            "            Use this to downgrade notebooks.\n",
            "    Choices: any of [1, 2, 3, 4]\n",
            "    Default: 4\n",
            "    Equivalent to: [--NotebookExporter.nbformat_version]\n",
            "\n",
            "Examples\n",
            "--------\n",
            "\n",
            "    The simplest way to use nbconvert is\n",
            "\n",
            "            > jupyter nbconvert mynotebook.ipynb --to html\n",
            "\n",
            "            Options include ['asciidoc', 'custom', 'html', 'latex', 'markdown', 'notebook', 'pdf', 'python', 'rst', 'script', 'slides', 'webpdf'].\n",
            "\n",
            "            > jupyter nbconvert --to latex mynotebook.ipynb\n",
            "\n",
            "            Both HTML and LaTeX support multiple output templates. LaTeX includes\n",
            "            'base', 'article' and 'report'.  HTML includes 'basic', 'lab' and\n",
            "            'classic'. You can specify the flavor of the format used.\n",
            "\n",
            "            > jupyter nbconvert --to html --template lab mynotebook.ipynb\n",
            "\n",
            "            You can also pipe the output to stdout, rather than a file\n",
            "\n",
            "            > jupyter nbconvert mynotebook.ipynb --stdout\n",
            "\n",
            "            PDF is generated via latex\n",
            "\n",
            "            > jupyter nbconvert mynotebook.ipynb --to pdf\n",
            "\n",
            "            You can get (and serve) a Reveal.js-powered slideshow\n",
            "\n",
            "            > jupyter nbconvert myslides.ipynb --to slides --post serve\n",
            "\n",
            "            Multiple notebooks can be given at the command line in a couple of\n",
            "            different ways:\n",
            "\n",
            "            > jupyter nbconvert notebook*.ipynb\n",
            "            > jupyter nbconvert notebook1.ipynb notebook2.ipynb\n",
            "\n",
            "            or you can specify the notebooks list in a config file, containing::\n",
            "\n",
            "                c.NbConvertApp.notebooks = [\"my_notebook.ipynb\"]\n",
            "\n",
            "            > jupyter nbconvert --config mycfg.py\n",
            "\n",
            "To see all available configurables, use `--help-all`.\n",
            "\n"
          ]
        }
      ]
    },
    {
      "cell_type": "code",
      "source": [],
      "metadata": {
        "id": "kMCJzii39h4d"
      },
      "execution_count": null,
      "outputs": []
    }
  ]
}